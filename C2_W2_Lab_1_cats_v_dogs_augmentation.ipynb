{
  "nbformat": 4,
  "nbformat_minor": 0,
  "metadata": {
    "colab": {
      "provenance": []
    },
    "kernelspec": {
      "name": "python3",
      "display_name": "Python 3"
    },
    "language_info": {
      "name": "python"
    }
  },
  "cells": [
    {
      "cell_type": "code",
      "execution_count": null,
      "metadata": {
        "colab": {
          "base_uri": "https://localhost:8080/"
        },
        "id": "NELPgrT-ehxN",
        "outputId": "4ad88761-4540-480a-9219-545748c2489c"
      },
      "outputs": [
        {
          "output_type": "stream",
          "name": "stdout",
          "text": [
            "--2024-02-17 13:59:34--  https://storage.googleapis.com/tensorflow-1-public/course2/cats_and_dogs_filtered.zip\n",
            "Resolving storage.googleapis.com (storage.googleapis.com)... 172.253.119.207, 108.177.111.207, 142.250.1.207, ...\n",
            "Connecting to storage.googleapis.com (storage.googleapis.com)|172.253.119.207|:443... connected.\n",
            "HTTP request sent, awaiting response... 200 OK\n",
            "Length: 68606236 (65M) [application/zip]\n",
            "Saving to: ‘cats_and_dogs_filtered.zip.1’\n",
            "\n",
            "cats_and_dogs_filte 100%[===================>]  65.43M   215MB/s    in 0.3s    \n",
            "\n",
            "2024-02-17 13:59:34 (215 MB/s) - ‘cats_and_dogs_filtered.zip.1’ saved [68606236/68606236]\n",
            "\n"
          ]
        }
      ],
      "source": [
        "# Download the dataset\n",
        "!wget https://storage.googleapis.com/tensorflow-1-public/course2/cats_and_dogs_filtered.zip"
      ]
    },
    {
      "cell_type": "code",
      "source": [
        "import os\n",
        "import zipfile\n",
        "\n",
        "zip_ref = zipfile.ZipFile(\"./cats_and_dogs_filtered.zip\", 'r')\n",
        "zip_ref.extractall(\"tmp/\")\n",
        "zip_ref.close()\n",
        "\n",
        "base_dir = 'tmp/cats_and_dogs_filtered'\n",
        "train_dir = os.path.join(base_dir, 'train')\n",
        "validation_dir = os.path.join(base_dir, 'validation')\n",
        "\n",
        "train_cats_dir = os.path.join(train_dir, 'cats')\n",
        "train_dogs_dir = os.path.join(train_dir, 'dogs')\n",
        "\n",
        "validation_cats_dir = os.path.join(validation_dir, 'cats')\n",
        "validation_dogs_dir = os.path.join(validation_dir, 'dogs')"
      ],
      "metadata": {
        "id": "TJQvSi_MemOp"
      },
      "execution_count": null,
      "outputs": []
    },
    {
      "cell_type": "code",
      "source": [
        "import numpy as np\n",
        "import matplotlib.pyplot as plt\n",
        "import tensorflow as tf\n",
        "from tensorflow import keras"
      ],
      "metadata": {
        "id": "kCCCMxv6uoxS"
      },
      "execution_count": null,
      "outputs": []
    },
    {
      "cell_type": "code",
      "source": [
        "from keras.preprocessing.image import ImageDataGenerator\n",
        "\n",
        "train_datagen = ImageDataGenerator(rescale = 1/255)\n",
        "validation_datagen = ImageDataGenerator(rescale = 1/255)\n",
        "\n",
        "train_generator = train_datagen.flow_from_directory(\n",
        "    train_dir,\n",
        "    target_size = (150, 150),\n",
        "    batch_size = 20,\n",
        "    class_mode = 'binary'\n",
        ")\n",
        "\n",
        "validation_generator = validation_datagen.flow_from_directory(\n",
        "    validation_dir,\n",
        "    target_size = (150, 150),\n",
        "    batch_size = 20,\n",
        "    class_mode = 'binary'\n",
        ")"
      ],
      "metadata": {
        "colab": {
          "base_uri": "https://localhost:8080/"
        },
        "id": "WS7jPnxzvDt7",
        "outputId": "384ba9f2-9376-42a4-aa0c-211201e7d455"
      },
      "execution_count": null,
      "outputs": [
        {
          "output_type": "stream",
          "name": "stdout",
          "text": [
            "Found 2000 images belonging to 2 classes.\n",
            "Found 1000 images belonging to 2 classes.\n"
          ]
        }
      ]
    },
    {
      "cell_type": "code",
      "source": [
        "from keras.optimizers import RMSprop\n",
        "\n",
        "model = keras.models.Sequential([\n",
        "    keras.layers.Conv2D(\n",
        "        filters = 16, kernel_size = (3, 3),\n",
        "        activation = 'relu', input_shape = (150, 150, 3)\n",
        "    ),\n",
        "    keras.layers.MaxPooling2D(2, 2),\n",
        "\n",
        "    keras.layers.Conv2D(\n",
        "        filters = 32, kernel_size = (3, 3),\n",
        "        activation = 'relu'\n",
        "    ),\n",
        "    keras.layers.MaxPooling2D(2,2),\n",
        "\n",
        "    keras.layers.Conv2D(\n",
        "        filters = 64,kernel_size = (3,3),\n",
        "        activation = 'relu'),\n",
        "    keras.layers.MaxPooling2D(2, 2),\n",
        "\n",
        "    keras.layers.Conv2D(\n",
        "        filters = 128, kernel_size = (3,3),\n",
        "        activation = 'relu'\n",
        "    ),\n",
        "    keras.layers.MaxPooling2D(2,2),\n",
        "\n",
        "    keras.layers.Flatten(),\n",
        "\n",
        "    keras.layers.Dense(units = 512, activation = 'relu'),\n",
        "    keras.layers.Dense(units = 1, activation = 'sigmoid')\n",
        "    ])"
      ],
      "metadata": {
        "id": "DCSSX-FFEyG7"
      },
      "execution_count": null,
      "outputs": []
    },
    {
      "cell_type": "code",
      "source": [
        "model.summary()"
      ],
      "metadata": {
        "colab": {
          "base_uri": "https://localhost:8080/"
        },
        "id": "Niv9dgVuGW6k",
        "outputId": "f05b49ec-4441-4092-fd21-769c3819405b"
      },
      "execution_count": null,
      "outputs": [
        {
          "output_type": "stream",
          "name": "stdout",
          "text": [
            "Model: \"sequential_1\"\n",
            "_________________________________________________________________\n",
            " Layer (type)                Output Shape              Param #   \n",
            "=================================================================\n",
            " conv2d_4 (Conv2D)           (None, 148, 148, 16)      448       \n",
            "                                                                 \n",
            " max_pooling2d_4 (MaxPoolin  (None, 74, 74, 16)        0         \n",
            " g2D)                                                            \n",
            "                                                                 \n",
            " conv2d_5 (Conv2D)           (None, 72, 72, 32)        4640      \n",
            "                                                                 \n",
            " max_pooling2d_5 (MaxPoolin  (None, 36, 36, 32)        0         \n",
            " g2D)                                                            \n",
            "                                                                 \n",
            " conv2d_6 (Conv2D)           (None, 34, 34, 64)        18496     \n",
            "                                                                 \n",
            " max_pooling2d_6 (MaxPoolin  (None, 17, 17, 64)        0         \n",
            " g2D)                                                            \n",
            "                                                                 \n",
            " conv2d_7 (Conv2D)           (None, 15, 15, 128)       73856     \n",
            "                                                                 \n",
            " max_pooling2d_7 (MaxPoolin  (None, 7, 7, 128)         0         \n",
            " g2D)                                                            \n",
            "                                                                 \n",
            " flatten_1 (Flatten)         (None, 6272)              0         \n",
            "                                                                 \n",
            " dense_2 (Dense)             (None, 512)               3211776   \n",
            "                                                                 \n",
            " dense_3 (Dense)             (None, 1)                 513       \n",
            "                                                                 \n",
            "=================================================================\n",
            "Total params: 3309729 (12.63 MB)\n",
            "Trainable params: 3309729 (12.63 MB)\n",
            "Non-trainable params: 0 (0.00 Byte)\n",
            "_________________________________________________________________\n"
          ]
        }
      ]
    },
    {
      "cell_type": "code",
      "source": [
        "model.compile(loss='binary_crossentropy',\n",
        "              optimizer = RMSprop(learning_rate = 0.001),\n",
        "              metrics = ['accuracy'])"
      ],
      "metadata": {
        "id": "No1_Bt_LGYrF"
      },
      "execution_count": null,
      "outputs": []
    },
    {
      "cell_type": "code",
      "source": [
        "history = model.fit(\n",
        "    train_generator,\n",
        "    steps_per_epoch = 100,\n",
        "    epochs = 20,\n",
        "    validation_data = validation_generator,\n",
        "    validation_steps = 50,\n",
        "    verbose = 2\n",
        ")"
      ],
      "metadata": {
        "colab": {
          "base_uri": "https://localhost:8080/"
        },
        "id": "YXkGzLmpGmbG",
        "outputId": "ff867205-d31f-43aa-d44c-65423dd82bdf"
      },
      "execution_count": null,
      "outputs": [
        {
          "output_type": "stream",
          "name": "stdout",
          "text": [
            "Epoch 1/20\n",
            "100/100 - 31s - loss: 0.7021 - accuracy: 0.5165 - val_loss: 0.6898 - val_accuracy: 0.6570 - 31s/epoch - 310ms/step\n",
            "Epoch 2/20\n",
            "100/100 - 30s - loss: 0.6778 - accuracy: 0.5935 - val_loss: 0.7150 - val_accuracy: 0.5140 - 30s/epoch - 299ms/step\n",
            "Epoch 3/20\n",
            "100/100 - 30s - loss: 0.6374 - accuracy: 0.6470 - val_loss: 0.6273 - val_accuracy: 0.6340 - 30s/epoch - 301ms/step\n",
            "Epoch 4/20\n",
            "100/100 - 30s - loss: 0.5978 - accuracy: 0.6765 - val_loss: 0.6222 - val_accuracy: 0.6560 - 30s/epoch - 300ms/step\n",
            "Epoch 5/20\n",
            "100/100 - 30s - loss: 0.5623 - accuracy: 0.7095 - val_loss: 0.5797 - val_accuracy: 0.6900 - 30s/epoch - 299ms/step\n",
            "Epoch 6/20\n",
            "100/100 - 30s - loss: 0.5244 - accuracy: 0.7400 - val_loss: 0.8082 - val_accuracy: 0.6310 - 30s/epoch - 295ms/step\n",
            "Epoch 7/20\n",
            "100/100 - 30s - loss: 0.4850 - accuracy: 0.7620 - val_loss: 0.5290 - val_accuracy: 0.7500 - 30s/epoch - 301ms/step\n",
            "Epoch 8/20\n",
            "100/100 - 31s - loss: 0.4360 - accuracy: 0.8000 - val_loss: 0.5868 - val_accuracy: 0.7200 - 31s/epoch - 309ms/step\n",
            "Epoch 9/20\n",
            "100/100 - 30s - loss: 0.3836 - accuracy: 0.8220 - val_loss: 0.6011 - val_accuracy: 0.7340 - 30s/epoch - 296ms/step\n",
            "Epoch 10/20\n",
            "100/100 - 30s - loss: 0.3298 - accuracy: 0.8580 - val_loss: 0.5817 - val_accuracy: 0.7240 - 30s/epoch - 301ms/step\n",
            "Epoch 11/20\n",
            "100/100 - 30s - loss: 0.2728 - accuracy: 0.8810 - val_loss: 0.6037 - val_accuracy: 0.7280 - 30s/epoch - 303ms/step\n",
            "Epoch 12/20\n",
            "100/100 - 30s - loss: 0.2026 - accuracy: 0.9160 - val_loss: 0.6574 - val_accuracy: 0.7290 - 30s/epoch - 297ms/step\n",
            "Epoch 13/20\n",
            "100/100 - 31s - loss: 0.1458 - accuracy: 0.9460 - val_loss: 0.9326 - val_accuracy: 0.7310 - 31s/epoch - 314ms/step\n",
            "Epoch 14/20\n",
            "100/100 - 30s - loss: 0.1228 - accuracy: 0.9485 - val_loss: 0.7884 - val_accuracy: 0.7210 - 30s/epoch - 300ms/step\n",
            "Epoch 15/20\n",
            "100/100 - 30s - loss: 0.0896 - accuracy: 0.9705 - val_loss: 0.9411 - val_accuracy: 0.7060 - 30s/epoch - 296ms/step\n",
            "Epoch 16/20\n",
            "100/100 - 30s - loss: 0.0746 - accuracy: 0.9755 - val_loss: 0.9710 - val_accuracy: 0.7340 - 30s/epoch - 300ms/step\n",
            "Epoch 17/20\n",
            "100/100 - 30s - loss: 0.0479 - accuracy: 0.9845 - val_loss: 1.0958 - val_accuracy: 0.7300 - 30s/epoch - 303ms/step\n",
            "Epoch 18/20\n",
            "100/100 - 30s - loss: 0.0453 - accuracy: 0.9875 - val_loss: 1.3876 - val_accuracy: 0.6980 - 30s/epoch - 298ms/step\n",
            "Epoch 19/20\n",
            "100/100 - 31s - loss: 0.0390 - accuracy: 0.9850 - val_loss: 1.6673 - val_accuracy: 0.7050 - 31s/epoch - 308ms/step\n",
            "Epoch 20/20\n",
            "100/100 - 31s - loss: 0.0407 - accuracy: 0.9890 - val_loss: 1.3350 - val_accuracy: 0.7420 - 31s/epoch - 311ms/step\n"
          ]
        }
      ]
    },
    {
      "cell_type": "code",
      "source": [
        "history"
      ],
      "metadata": {
        "colab": {
          "base_uri": "https://localhost:8080/"
        },
        "id": "bNBBwhA_HCwe",
        "outputId": "e74c7c10-b043-4009-cb62-ed82ebc17401"
      },
      "execution_count": null,
      "outputs": [
        {
          "output_type": "execute_result",
          "data": {
            "text/plain": [
              "<keras.src.callbacks.History at 0x7c4bde1a7af0>"
            ]
          },
          "metadata": {},
          "execution_count": 45
        }
      ]
    },
    {
      "cell_type": "code",
      "source": [
        "def plot_loss_acc(model):\n",
        "\n",
        "    acc = model.history['accuracy']\n",
        "    val_acc = model.history['val_accuracy']\n",
        "    loss = model.history['loss']\n",
        "    val_loss = model.history['val_loss']\n",
        "\n",
        "    epochs = range(len(acc))\n",
        "\n",
        "    plt.plot(epochs, acc,  label='Training Accuracy')\n",
        "    plt.plot(epochs, val_acc,  label='Validation Accuracy')\n",
        "    plt.title(\"Training and Validation Accuracy\")\n",
        "\n",
        "    plt.legend()\n",
        "\n",
        "    plt.figure()\n",
        "\n",
        "    plt.plot(epochs, loss, label='Training Loss')\n",
        "    plt.plot(epochs, val_loss, label='Validation Loss')\n",
        "    plt.title(\"Training and Validation Loss\")\n",
        "\n",
        "    plt.legend()\n",
        "\n",
        "    plt.show()\n",
        "\n"
      ],
      "metadata": {
        "id": "cqhLyAH-J2Gz"
      },
      "execution_count": null,
      "outputs": []
    },
    {
      "cell_type": "code",
      "source": [
        "plot_loss_acc(history)"
      ],
      "metadata": {
        "colab": {
          "base_uri": "https://localhost:8080/",
          "height": 887
        },
        "id": "VR6mFeMdLVjg",
        "outputId": "78eebed7-1be5-4220-e013-bb5f5095ca8e"
      },
      "execution_count": null,
      "outputs": [
        {
          "output_type": "display_data",
          "data": {
            "text/plain": [
              "<Figure size 640x480 with 1 Axes>"
            ],
            "image/png": "[encoded data removed]"
          },
          "metadata": {}
        },
        {
          "output_type": "display_data",
          "data": {
            "text/plain": [
              "<Figure size 640x480 with 1 Axes>"
            ],
            "image/png": "[encoded data removed]"
          },
          "metadata": {}
        }
      ]
    },
    {
      "cell_type": "code",
      "source": [
        "# images with augmentation\n",
        "\n",
        "train_datagen = ImageDataGenerator(\n",
        "    rescale = 1/255,\n",
        "    rotation_range = 40,\n",
        "    width_shift_range= 0.2,\n",
        "    height_shift_range= 0.2,\n",
        "    shear_range=  0.2,\n",
        "    horizontal_flip=True,\n",
        "    fill_mode='nearest'\n",
        ")\n",
        "\n",
        "train_generator = train_datagen.flow_from_directory(\n",
        "    train_dir,\n",
        "    target_size = (150, 150),\n",
        "    batch_size = 20,\n",
        "    class_mode = \"binary\"\n",
        "\n",
        ")\n",
        "\n",
        "validation_datagen = ImageDataGenerator(rescale=1/255)\n",
        "\n",
        "validation_generator = validation_datagen.flow_from_directory(\n",
        "    validation_dir,\n",
        "    target_size = (150, 150),\n",
        "    batch_size = 20,\n",
        "    class_mode = 'binary'\n",
        ")\n",
        "\n",
        "\n",
        "model_augmentation = keras.models.Sequential([\n",
        "    keras.layers.Conv2D(\n",
        "        filters = 16, kernel_size = (3, 3),\n",
        "        activation = 'relu', input_shape = (150, 150, 3)\n",
        "    ),\n",
        "    keras.layers.MaxPooling2D(2, 2),\n",
        "\n",
        "    keras.layers.Conv2D(\n",
        "        filters = 32, kernel_size = (3, 3),\n",
        "        activation = 'relu'\n",
        "    ),\n",
        "    keras.layers.MaxPooling2D(2,2),\n",
        "\n",
        "    keras.layers.Conv2D(\n",
        "        filters = 64,kernel_size = (3,3),\n",
        "        activation = 'relu'),\n",
        "    keras.layers.MaxPooling2D(2, 2),\n",
        "\n",
        "    keras.layers.Conv2D(\n",
        "        filters = 128, kernel_size = (3,3),\n",
        "        activation = 'relu'\n",
        "    ),\n",
        "    keras.layers.MaxPooling2D(2,2),\n",
        "\n",
        "    keras.layers.Flatten(),\n",
        "\n",
        "    keras.layers.Dense(units = 512, activation = 'relu'),\n",
        "    keras.layers.Dense(units = 1, activation = 'sigmoid')\n",
        "    ])\n",
        "\n",
        "\n",
        "model_augmentation.compile(loss='binary_crossentropy',\n",
        "              optimizer = RMSprop(learning_rate = 0.001),\n",
        "              metrics = ['accuracy'])\n",
        "\n",
        "history_augmentation = model_augmentation.fit(\n",
        "    train_generator,\n",
        "    steps_per_epoch = 100,\n",
        "    epochs = 20,\n",
        "    validation_data = validation_generator,\n",
        "    validation_steps = 50,\n",
        "    verbose = 2\n",
        ")"
      ],
      "metadata": {
        "colab": {
          "base_uri": "https://localhost:8080/"
        },
        "id": "GM0DDcUxLX5A",
        "outputId": "f4e0d865-4bd2-4553-b5f7-e3f96039632e"
      },
      "execution_count": null,
      "outputs": [
        {
          "output_type": "stream",
          "name": "stdout",
          "text": [
            "Found 2000 images belonging to 2 classes.\n",
            "Found 1000 images belonging to 2 classes.\n",
            "Epoch 1/20\n",
            "100/100 - 36s - loss: 0.7286 - accuracy: 0.5315 - val_loss: 0.6875 - val_accuracy: 0.6100 - 36s/epoch - 361ms/step\n",
            "Epoch 2/20\n",
            "100/100 - 36s - loss: 0.6974 - accuracy: 0.5620 - val_loss: 0.6687 - val_accuracy: 0.5990 - 36s/epoch - 357ms/step\n",
            "Epoch 3/20\n",
            "100/100 - 36s - loss: 0.6792 - accuracy: 0.5815 - val_loss: 0.6757 - val_accuracy: 0.5050 - 36s/epoch - 358ms/step\n",
            "Epoch 4/20\n",
            "100/100 - 35s - loss: 0.6711 - accuracy: 0.5815 - val_loss: 0.6704 - val_accuracy: 0.5370 - 35s/epoch - 347ms/step\n",
            "Epoch 5/20\n",
            "100/100 - 35s - loss: 0.6534 - accuracy: 0.6030 - val_loss: 0.6024 - val_accuracy: 0.6880 - 35s/epoch - 347ms/step\n",
            "Epoch 6/20\n",
            "100/100 - 36s - loss: 0.6285 - accuracy: 0.6375 - val_loss: 0.5943 - val_accuracy: 0.6820 - 36s/epoch - 358ms/step\n",
            "Epoch 7/20\n",
            "100/100 - 35s - loss: 0.6252 - accuracy: 0.6530 - val_loss: 0.6192 - val_accuracy: 0.6440 - 35s/epoch - 352ms/step\n",
            "Epoch 8/20\n",
            "100/100 - 35s - loss: 0.6083 - accuracy: 0.6660 - val_loss: 0.5777 - val_accuracy: 0.6960 - 35s/epoch - 349ms/step\n",
            "Epoch 9/20\n",
            "100/100 - 35s - loss: 0.6167 - accuracy: 0.6685 - val_loss: 0.5739 - val_accuracy: 0.6910 - 35s/epoch - 347ms/step\n",
            "Epoch 10/20\n",
            "100/100 - 37s - loss: 0.6110 - accuracy: 0.6635 - val_loss: 0.5917 - val_accuracy: 0.6860 - 37s/epoch - 367ms/step\n",
            "Epoch 11/20\n",
            "100/100 - 35s - loss: 0.5969 - accuracy: 0.6740 - val_loss: 0.5583 - val_accuracy: 0.7020 - 35s/epoch - 353ms/step\n",
            "Epoch 12/20\n",
            "100/100 - 35s - loss: 0.5946 - accuracy: 0.6900 - val_loss: 0.5431 - val_accuracy: 0.7210 - 35s/epoch - 351ms/step\n",
            "Epoch 13/20\n",
            "100/100 - 35s - loss: 0.5929 - accuracy: 0.6765 - val_loss: 0.6650 - val_accuracy: 0.6380 - 35s/epoch - 349ms/step\n",
            "Epoch 14/20\n",
            "100/100 - 37s - loss: 0.5861 - accuracy: 0.6865 - val_loss: 0.5344 - val_accuracy: 0.7240 - 37s/epoch - 370ms/step\n",
            "Epoch 15/20\n",
            "100/100 - 35s - loss: 0.5604 - accuracy: 0.7165 - val_loss: 0.5808 - val_accuracy: 0.7260 - 35s/epoch - 351ms/step\n",
            "Epoch 16/20\n",
            "100/100 - 35s - loss: 0.5730 - accuracy: 0.7115 - val_loss: 0.5059 - val_accuracy: 0.7590 - 35s/epoch - 351ms/step\n",
            "Epoch 17/20\n",
            "100/100 - 36s - loss: 0.5622 - accuracy: 0.7135 - val_loss: 0.5318 - val_accuracy: 0.7190 - 36s/epoch - 362ms/step\n",
            "Epoch 18/20\n",
            "100/100 - 35s - loss: 0.5489 - accuracy: 0.7310 - val_loss: 0.5396 - val_accuracy: 0.7140 - 35s/epoch - 354ms/step\n",
            "Epoch 19/20\n",
            "100/100 - 36s - loss: 0.5423 - accuracy: 0.7185 - val_loss: 0.5062 - val_accuracy: 0.7510 - 36s/epoch - 363ms/step\n",
            "Epoch 20/20\n",
            "100/100 - 36s - loss: 0.5465 - accuracy: 0.7325 - val_loss: 0.5097 - val_accuracy: 0.7650 - 36s/epoch - 355ms/step\n"
          ]
        }
      ]
    },
    {
      "cell_type": "code",
      "source": [
        "plot_loss_acc(history_augmentation)"
      ],
      "metadata": {
        "colab": {
          "base_uri": "https://localhost:8080/",
          "height": 887
        },
        "id": "HH5RPsh7QIHI",
        "outputId": "c03a6fb0-6065-409e-985e-c239246936aa"
      },
      "execution_count": null,
      "outputs": [
        {
          "output_type": "display_data",
          "data": {
            "text/plain": [
              "<Figure size 640x480 with 1 Axes>"
            ],
            "image/png": "[encoded data removed]"
          },
          "metadata": {}
        },
        {
          "output_type": "display_data",
          "data": {
            "text/plain": [
              "<Figure size 640x480 with 1 Axes>"
            ],
            "image/png": "[encoded data removed]"
          },
          "metadata": {}
        }
      ]
    },
    {
      "cell_type": "code",
      "source": [
        "from google.colab import files\n",
        "from keras.preprocessing import image\n",
        "\n",
        "uploaded = files.upload()\n",
        "cats = 0\n",
        "dogs = 0\n",
        "\n",
        "for i in uploaded.keys():\n",
        "\n",
        "    path = '/content/' + i\n",
        "    img = image.load_img(path, target_size = (150, 150))\n",
        "\n",
        "    x = image.img_to_array(img)\n",
        "    x /= 255\n",
        "    x = np.expand_dims(x, axis = 0)\n",
        "    images = np.vstack([x])\n",
        "\n",
        "\n",
        "    classes = model_augmentation.predict(images, batch_size = 20)\n",
        "\n",
        "    print(classes[0])\n",
        "\n",
        "    if classes[0]>0.5:\n",
        "        print(i + \" is a dog\")\n",
        "        dogs+=1\n",
        "\n",
        "    else:\n",
        "        print(i + \" is a cat\")\n",
        "        cats+=1"
      ],
      "metadata": {
        "colab": {
          "base_uri": "https://localhost:8080/",
          "height": 732
        },
        "id": "-YUAjOoDQMoT",
        "outputId": "1d3851c7-2371-41d6-ab27-28eef1828b47"
      },
      "execution_count": null,
      "outputs": [
        {
          "output_type": "display_data",
          "data": {
            "text/plain": [
              "<IPython.core.display.HTML object>"
            ],
            "text/html": [
              "\n",
              "     <input type=\"file\" id=\"files-496d8e55-2d2a-491c-a445-c926d1922d66\" name=\"files[]\" multiple disabled\n",
              "        style=\"border:none\" />\n",
              "     <output id=\"result-496d8e55-2d2a-491c-a445-c926d1922d66\">\n",
              "      Upload widget is only available when the cell has been executed in the\n",
              "      current browser session. Please rerun this cell to enable.\n",
              "      </output>\n",
              "      <script>// Copyright 2017 Google LLC\n",
              "//\n",
              "// Licensed under the Apache License, Version 2.0 (the \"License\");\n",
              "// you may not use this file except in compliance with the License.\n",
              "// You may obtain a copy of the License at\n",
              "//\n",
              "//      http://www.apache.org/licenses/LICENSE-2.0\n",
              "//\n",
              "// Unless required by applicable law or agreed to in writing, software\n",
              "// distributed under the License is distributed on an \"AS IS\" BASIS,\n",
              "// WITHOUT WARRANTIES OR CONDITIONS OF ANY KIND, either express or implied.\n",
              "// See the License for the specific language governing permissions and\n",
              "// limitations under the License.\n",
              "\n",
              "/**\n",
              " * @fileoverview Helpers for google.colab Python module.\n",
              " */\n",
              "(function(scope) {\n",
              "function span(text, styleAttributes = {}) {\n",
              "  const element = document.createElement('span');\n",
              "  element.textContent = text;\n",
              "  for (const key of Object.keys(styleAttributes)) {\n",
              "    element.style[key] = styleAttributes[key];\n",
              "  }\n",
              "  return element;\n",
              "}\n",
              "\n",
              "// Max number of bytes which will be uploaded at a time.\n",
              "const MAX_PAYLOAD_SIZE = 100 * 1024;\n",
              "\n",
              "function _uploadFiles(inputId, outputId) {\n",
              "  const steps = uploadFilesStep(inputId, outputId);\n",
              "  const outputElement = document.getElementById(outputId);\n",
              "  // Cache steps on the outputElement to make it available for the next call\n",
              "  // to uploadFilesContinue from Python.\n",
              "  outputElement.steps = steps;\n",
              "\n",
              "  return _uploadFilesContinue(outputId);\n",
              "}\n",
              "\n",
              "// This is roughly an async generator (not supported in the browser yet),\n",
              "// where there are multiple asynchronous steps and the Python side is going\n",
              "// to poll for completion of each step.\n",
              "// This uses a Promise to block the python side on completion of each step,\n",
              "// then passes the result of the previous step as the input to the next step.\n",
              "function _uploadFilesContinue(outputId) {\n",
              "  const outputElement = document.getElementById(outputId);\n",
              "  const steps = outputElement.steps;\n",
              "\n",
              "  const next = steps.next(outputElement.lastPromiseValue);\n",
              "  return Promise.resolve(next.value.promise).then((value) => {\n",
              "    // Cache the last promise value to make it available to the next\n",
              "    // step of the generator.\n",
              "    outputElement.lastPromiseValue = value;\n",
              "    return next.value.response;\n",
              "  });\n",
              "}\n",
              "\n",
              "/**\n",
              " * Generator function which is called between each async step of the upload\n",
              " * process.\n",
              " * @param {string} inputId Element ID of the input file picker element.\n",
              " * @param {string} outputId Element ID of the output display.\n",
              " * @return {!Iterable<!Object>} Iterable of next steps.\n",
              " */\n",
              "function* uploadFilesStep(inputId, outputId) {\n",
              "  const inputElement = document.getElementById(inputId);\n",
              "  inputElement.disabled = false;\n",
              "\n",
              "  const outputElement = document.getElementById(outputId);\n",
              "  outputElement.innerHTML = '';\n",
              "\n",
              "  const pickedPromise = new Promise((resolve) => {\n",
              "    inputElement.addEventListener('change', (e) => {\n",
              "      resolve(e.target.files);\n",
              "    });\n",
              "  });\n",
              "\n",
              "  const cancel = document.createElement('button');\n",
              "  inputElement.parentElement.appendChild(cancel);\n",
              "  cancel.textContent = 'Cancel upload';\n",
              "  const cancelPromise = new Promise((resolve) => {\n",
              "    cancel.onclick = () => {\n",
              "      resolve(null);\n",
              "    };\n",
              "  });\n",
              "\n",
              "  // Wait for the user to pick the files.\n",
              "  const files = yield {\n",
              "    promise: Promise.race([pickedPromise, cancelPromise]),\n",
              "    response: {\n",
              "      action: 'starting',\n",
              "    }\n",
              "  };\n",
              "\n",
              "  cancel.remove();\n",
              "\n",
              "  // Disable the input element since further picks are not allowed.\n",
              "  inputElement.disabled = true;\n",
              "\n",
              "  if (!files) {\n",
              "    return {\n",
              "      response: {\n",
              "        action: 'complete',\n",
              "      }\n",
              "    };\n",
              "  }\n",
              "\n",
              "  for (const file of files) {\n",
              "    const li = document.createElement('li');\n",
              "    li.append(span(file.name, {fontWeight: 'bold'}));\n",
              "    li.append(span(\n",
              "        `(${file.type || 'n/a'}) - ${file.size} bytes, ` +\n",
              "        `last modified: ${\n",
              "            file.lastModifiedDate ? file.lastModifiedDate.toLocaleDateString() :\n",
              "                                    'n/a'} - `));\n",
              "    const percent = span('0% done');\n",
              "    li.appendChild(percent);\n",
              "\n",
              "    outputElement.appendChild(li);\n",
              "\n",
              "    const fileDataPromise = new Promise((resolve) => {\n",
              "      const reader = new FileReader();\n",
              "      reader.onload = (e) => {\n",
              "        resolve(e.target.result);\n",
              "      };\n",
              "      reader.readAsArrayBuffer(file);\n",
              "    });\n",
              "    // Wait for the data to be ready.\n",
              "    let fileData = yield {\n",
              "      promise: fileDataPromise,\n",
              "      response: {\n",
              "        action: 'continue',\n",
              "      }\n",
              "    };\n",
              "\n",
              "    // Use a chunked sending to avoid message size limits. See b/62115660.\n",
              "    let position = 0;\n",
              "    do {\n",
              "      const length = Math.min(fileData.byteLength - position, MAX_PAYLOAD_SIZE);\n",
              "      const chunk = new Uint8Array(fileData, position, length);\n",
              "      position += length;\n",
              "\n",
              "      const base64 = btoa(String.fromCharCode.apply(null, chunk));\n",
              "      yield {\n",
              "        response: {\n",
              "          action: 'append',\n",
              "          file: file.name,\n",
              "          data: base64,\n",
              "        },\n",
              "      };\n",
              "\n",
              "      let percentDone = fileData.byteLength === 0 ?\n",
              "          100 :\n",
              "          Math.round((position / fileData.byteLength) * 100);\n",
              "      percent.textContent = `${percentDone}% done`;\n",
              "\n",
              "    } while (position < fileData.byteLength);\n",
              "  }\n",
              "\n",
              "  // All done.\n",
              "  yield {\n",
              "    response: {\n",
              "      action: 'complete',\n",
              "    }\n",
              "  };\n",
              "}\n",
              "\n",
              "scope.google = scope.google || {};\n",
              "scope.google.colab = scope.google.colab || {};\n",
              "scope.google.colab._files = {\n",
              "  _uploadFiles,\n",
              "  _uploadFilesContinue,\n",
              "};\n",
              "})(self);\n",
              "</script> "
            ]
          },
          "metadata": {}
        },
        {
          "output_type": "stream",
          "name": "stdout",
          "text": [
            "Saving dog 1.jpg to dog 1 (5).jpg\n",
            "Saving dog 4.jpg to dog 4 (2).jpg\n",
            "Saving dog.jpg to dog (3).jpg\n",
            "Saving dog2.jpg to dog2 (4).jpg\n",
            "Saving dog3.jpg to dog3 (2).jpg\n",
            "Saving dog5.jpg to dog5 (2).jpg\n",
            "Saving karsten-winegeart-NE0XGVKTmcA-unsplash.jpg to karsten-winegeart-NE0XGVKTmcA-unsplash (2).jpg\n",
            "Saving photo-1552053831-71594a27632d.jpeg to photo-1552053831-71594a27632d.jpeg\n",
            "1/1 [==============================] - 0s 20ms/step\n",
            "[0.99717134]\n",
            "dog 1 (5).jpg is a dog\n",
            "1/1 [==============================] - 0s 19ms/step\n",
            "[0.7441029]\n",
            "dog 4 (2).jpg is a dog\n",
            "1/1 [==============================] - 0s 21ms/step\n",
            "[0.76590866]\n",
            "dog (3).jpg is a dog\n",
            "1/1 [==============================] - 0s 23ms/step\n",
            "[0.9998241]\n",
            "dog2 (4).jpg is a dog\n",
            "1/1 [==============================] - 0s 21ms/step\n",
            "[0.74354106]\n",
            "dog3 (2).jpg is a dog\n",
            "1/1 [==============================] - 0s 21ms/step\n",
            "[0.847931]\n",
            "dog5 (2).jpg is a dog\n",
            "1/1 [==============================] - 0s 22ms/step\n",
            "[0.46841028]\n",
            "karsten-winegeart-NE0XGVKTmcA-unsplash (2).jpg is a cat\n",
            "1/1 [==============================] - 0s 21ms/step\n",
            "[0.8228904]\n",
            "photo-1552053831-71594a27632d.jpeg is a dog\n"
          ]
        }
      ]
    },
    {
      "cell_type": "code",
      "source": [
        "print(\"Cats with augmentation = \",cats)\n",
        "print(\"Dogs with augmentation = \",dogs)"
      ],
      "metadata": {
        "colab": {
          "base_uri": "https://localhost:8080/"
        },
        "id": "6T2mxzsLhPHh",
        "outputId": "158959f9-1053-4dc0-8e33-040a2ac6e650"
      },
      "execution_count": null,
      "outputs": [
        {
          "output_type": "stream",
          "name": "stdout",
          "text": [
            "Cats with augmentation =  1\n",
            "Dogs with augmentation =  7\n"
          ]
        }
      ]
    },
    {
      "cell_type": "code",
      "source": [
        "uploaded = files.upload()\n",
        "dog = 0\n",
        "cat = 0\n",
        "for i in uploaded.keys():\n",
        "\n",
        "    path = '/content/' + i\n",
        "    img = image.load_img(path, target_size = (150, 150))\n",
        "\n",
        "    x = image.img_to_array(img)\n",
        "    x /= 255\n",
        "    x = np.expand_dims(x, axis = 0)\n",
        "    images = np.vstack([x])\n",
        "\n",
        "\n",
        "    classes = model.predict(images, batch_size = 20)\n",
        "\n",
        "    print(classes[0])\n",
        "\n",
        "    if classes[0]>0.5:\n",
        "        print(i + \" is a dog\")\n",
        "        dog+=1\n",
        "\n",
        "    else:\n",
        "        print(i + \" is a cat\")\n",
        "        cat+=1"
      ],
      "metadata": {
        "colab": {
          "base_uri": "https://localhost:8080/",
          "height": 732
        },
        "id": "VS4uVxD4VOp1",
        "outputId": "95539933-5e93-412e-9939-4cb7525b1a5f"
      },
      "execution_count": null,
      "outputs": [
        {
          "output_type": "display_data",
          "data": {
            "text/plain": [
              "<IPython.core.display.HTML object>"
            ],
            "text/html": [
              "\n",
              "     <input type=\"file\" id=\"files-3d4f964f-e059-40f1-8815-f2dbea8f89b4\" name=\"files[]\" multiple disabled\n",
              "        style=\"border:none\" />\n",
              "     <output id=\"result-3d4f964f-e059-40f1-8815-f2dbea8f89b4\">\n",
              "      Upload widget is only available when the cell has been executed in the\n",
              "      current browser session. Please rerun this cell to enable.\n",
              "      </output>\n",
              "      <script>// Copyright 2017 Google LLC\n",
              "//\n",
              "// Licensed under the Apache License, Version 2.0 (the \"License\");\n",
              "// you may not use this file except in compliance with the License.\n",
              "// You may obtain a copy of the License at\n",
              "//\n",
              "//      http://www.apache.org/licenses/LICENSE-2.0\n",
              "//\n",
              "// Unless required by applicable law or agreed to in writing, software\n",
              "// distributed under the License is distributed on an \"AS IS\" BASIS,\n",
              "// WITHOUT WARRANTIES OR CONDITIONS OF ANY KIND, either express or implied.\n",
              "// See the License for the specific language governing permissions and\n",
              "// limitations under the License.\n",
              "\n",
              "/**\n",
              " * @fileoverview Helpers for google.colab Python module.\n",
              " */\n",
              "(function(scope) {\n",
              "function span(text, styleAttributes = {}) {\n",
              "  const element = document.createElement('span');\n",
              "  element.textContent = text;\n",
              "  for (const key of Object.keys(styleAttributes)) {\n",
              "    element.style[key] = styleAttributes[key];\n",
              "  }\n",
              "  return element;\n",
              "}\n",
              "\n",
              "// Max number of bytes which will be uploaded at a time.\n",
              "const MAX_PAYLOAD_SIZE = 100 * 1024;\n",
              "\n",
              "function _uploadFiles(inputId, outputId) {\n",
              "  const steps = uploadFilesStep(inputId, outputId);\n",
              "  const outputElement = document.getElementById(outputId);\n",
              "  // Cache steps on the outputElement to make it available for the next call\n",
              "  // to uploadFilesContinue from Python.\n",
              "  outputElement.steps = steps;\n",
              "\n",
              "  return _uploadFilesContinue(outputId);\n",
              "}\n",
              "\n",
              "// This is roughly an async generator (not supported in the browser yet),\n",
              "// where there are multiple asynchronous steps and the Python side is going\n",
              "// to poll for completion of each step.\n",
              "// This uses a Promise to block the python side on completion of each step,\n",
              "// then passes the result of the previous step as the input to the next step.\n",
              "function _uploadFilesContinue(outputId) {\n",
              "  const outputElement = document.getElementById(outputId);\n",
              "  const steps = outputElement.steps;\n",
              "\n",
              "  const next = steps.next(outputElement.lastPromiseValue);\n",
              "  return Promise.resolve(next.value.promise).then((value) => {\n",
              "    // Cache the last promise value to make it available to the next\n",
              "    // step of the generator.\n",
              "    outputElement.lastPromiseValue = value;\n",
              "    return next.value.response;\n",
              "  });\n",
              "}\n",
              "\n",
              "/**\n",
              " * Generator function which is called between each async step of the upload\n",
              " * process.\n",
              " * @param {string} inputId Element ID of the input file picker element.\n",
              " * @param {string} outputId Element ID of the output display.\n",
              " * @return {!Iterable<!Object>} Iterable of next steps.\n",
              " */\n",
              "function* uploadFilesStep(inputId, outputId) {\n",
              "  const inputElement = document.getElementById(inputId);\n",
              "  inputElement.disabled = false;\n",
              "\n",
              "  const outputElement = document.getElementById(outputId);\n",
              "  outputElement.innerHTML = '';\n",
              "\n",
              "  const pickedPromise = new Promise((resolve) => {\n",
              "    inputElement.addEventListener('change', (e) => {\n",
              "      resolve(e.target.files);\n",
              "    });\n",
              "  });\n",
              "\n",
              "  const cancel = document.createElement('button');\n",
              "  inputElement.parentElement.appendChild(cancel);\n",
              "  cancel.textContent = 'Cancel upload';\n",
              "  const cancelPromise = new Promise((resolve) => {\n",
              "    cancel.onclick = () => {\n",
              "      resolve(null);\n",
              "    };\n",
              "  });\n",
              "\n",
              "  // Wait for the user to pick the files.\n",
              "  const files = yield {\n",
              "    promise: Promise.race([pickedPromise, cancelPromise]),\n",
              "    response: {\n",
              "      action: 'starting',\n",
              "    }\n",
              "  };\n",
              "\n",
              "  cancel.remove();\n",
              "\n",
              "  // Disable the input element since further picks are not allowed.\n",
              "  inputElement.disabled = true;\n",
              "\n",
              "  if (!files) {\n",
              "    return {\n",
              "      response: {\n",
              "        action: 'complete',\n",
              "      }\n",
              "    };\n",
              "  }\n",
              "\n",
              "  for (const file of files) {\n",
              "    const li = document.createElement('li');\n",
              "    li.append(span(file.name, {fontWeight: 'bold'}));\n",
              "    li.append(span(\n",
              "        `(${file.type || 'n/a'}) - ${file.size} bytes, ` +\n",
              "        `last modified: ${\n",
              "            file.lastModifiedDate ? file.lastModifiedDate.toLocaleDateString() :\n",
              "                                    'n/a'} - `));\n",
              "    const percent = span('0% done');\n",
              "    li.appendChild(percent);\n",
              "\n",
              "    outputElement.appendChild(li);\n",
              "\n",
              "    const fileDataPromise = new Promise((resolve) => {\n",
              "      const reader = new FileReader();\n",
              "      reader.onload = (e) => {\n",
              "        resolve(e.target.result);\n",
              "      };\n",
              "      reader.readAsArrayBuffer(file);\n",
              "    });\n",
              "    // Wait for the data to be ready.\n",
              "    let fileData = yield {\n",
              "      promise: fileDataPromise,\n",
              "      response: {\n",
              "        action: 'continue',\n",
              "      }\n",
              "    };\n",
              "\n",
              "    // Use a chunked sending to avoid message size limits. See b/62115660.\n",
              "    let position = 0;\n",
              "    do {\n",
              "      const length = Math.min(fileData.byteLength - position, MAX_PAYLOAD_SIZE);\n",
              "      const chunk = new Uint8Array(fileData, position, length);\n",
              "      position += length;\n",
              "\n",
              "      const base64 = btoa(String.fromCharCode.apply(null, chunk));\n",
              "      yield {\n",
              "        response: {\n",
              "          action: 'append',\n",
              "          file: file.name,\n",
              "          data: base64,\n",
              "        },\n",
              "      };\n",
              "\n",
              "      let percentDone = fileData.byteLength === 0 ?\n",
              "          100 :\n",
              "          Math.round((position / fileData.byteLength) * 100);\n",
              "      percent.textContent = `${percentDone}% done`;\n",
              "\n",
              "    } while (position < fileData.byteLength);\n",
              "  }\n",
              "\n",
              "  // All done.\n",
              "  yield {\n",
              "    response: {\n",
              "      action: 'complete',\n",
              "    }\n",
              "  };\n",
              "}\n",
              "\n",
              "scope.google = scope.google || {};\n",
              "scope.google.colab = scope.google.colab || {};\n",
              "scope.google.colab._files = {\n",
              "  _uploadFiles,\n",
              "  _uploadFilesContinue,\n",
              "};\n",
              "})(self);\n",
              "</script> "
            ]
          },
          "metadata": {}
        },
        {
          "output_type": "stream",
          "name": "stdout",
          "text": [
            "Saving dog 1.jpg to dog 1 (6).jpg\n",
            "Saving dog 4.jpg to dog 4 (3).jpg\n",
            "Saving dog.jpg to dog (4).jpg\n",
            "Saving dog2.jpg to dog2 (5).jpg\n",
            "Saving dog3.jpg to dog3 (3).jpg\n",
            "Saving dog5.jpg to dog5 (3).jpg\n",
            "Saving karsten-winegeart-NE0XGVKTmcA-unsplash.jpg to karsten-winegeart-NE0XGVKTmcA-unsplash (3).jpg\n",
            "Saving photo-1552053831-71594a27632d.jpeg to photo-1552053831-71594a27632d (1).jpeg\n",
            "1/1 [==============================] - 0s 20ms/step\n",
            "[1.]\n",
            "dog 1 (6).jpg is a dog\n",
            "1/1 [==============================] - 0s 19ms/step\n",
            "[0.99999803]\n",
            "dog 4 (3).jpg is a dog\n",
            "1/1 [==============================] - 0s 19ms/step\n",
            "[0.6941589]\n",
            "dog (4).jpg is a dog\n",
            "1/1 [==============================] - 0s 20ms/step\n",
            "[1.]\n",
            "dog2 (5).jpg is a dog\n",
            "1/1 [==============================] - 0s 21ms/step\n",
            "[0.30998367]\n",
            "dog3 (3).jpg is a cat\n",
            "1/1 [==============================] - 0s 26ms/step\n",
            "[0.99874216]\n",
            "dog5 (3).jpg is a dog\n",
            "1/1 [==============================] - 0s 22ms/step\n",
            "[0.77052724]\n",
            "karsten-winegeart-NE0XGVKTmcA-unsplash (3).jpg is a dog\n",
            "1/1 [==============================] - 0s 21ms/step\n",
            "[0.20509501]\n",
            "photo-1552053831-71594a27632d (1).jpeg is a cat\n"
          ]
        }
      ]
    },
    {
      "cell_type": "code",
      "source": [
        "print(\"Cats = \",cat)\n",
        "print(\"Dogs = \",dog)"
      ],
      "metadata": {
        "colab": {
          "base_uri": "https://localhost:8080/"
        },
        "id": "JBajrwmldf0C",
        "outputId": "b9dd0d93-24c7-4254-ba4b-7a236b9d7712"
      },
      "execution_count": null,
      "outputs": [
        {
          "output_type": "stream",
          "name": "stdout",
          "text": [
            "Cats =  2\n",
            "Dogs =  6\n"
          ]
        }
      ]
    }
  ]
}
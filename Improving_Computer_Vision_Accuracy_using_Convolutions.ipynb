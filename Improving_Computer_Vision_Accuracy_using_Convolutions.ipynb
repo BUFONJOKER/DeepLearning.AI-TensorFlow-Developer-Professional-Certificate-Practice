{
  "nbformat": 4,
  "nbformat_minor": 0,
  "metadata": {
    "colab": {
      "provenance": [],
      "gpuType": "T4"
    },
    "kernelspec": {
      "name": "python3",
      "display_name": "Python 3"
    },
    "language_info": {
      "name": "python"
    },
    "accelerator": "GPU"
  },
  "cells": [
    {
      "cell_type": "code",
      "execution_count": null,
      "metadata": {
        "id": "GVkLPmOPnTr6"
      },
      "outputs": [],
      "source": [
        "import tensorflow as tf\n",
        "from tensorflow import keras"
      ]
    },
    {
      "cell_type": "code",
      "source": [
        "fmnist = keras.datasets.fashion_mnist"
      ],
      "metadata": {
        "id": "gunxCp0wn1j3"
      },
      "execution_count": null,
      "outputs": []
    },
    {
      "cell_type": "code",
      "source": [
        "(train_images, train_labels), (test_images, test_labels) = fmnist.load_data()"
      ],
      "metadata": {
        "colab": {
          "base_uri": "https://localhost:8080/"
        },
        "id": "Wg3H_SZZoGDs",
        "outputId": "0331c6f3-4489-4b71-fe57-10c8f3e04c9c"
      },
      "execution_count": null,
      "outputs": [
        {
          "output_type": "stream",
          "name": "stdout",
          "text": [
            "Downloading data from https://storage.googleapis.com/tensorflow/tf-keras-datasets/train-labels-idx1-ubyte.gz\n",
            "29515/29515 [==============================] - 0s 0us/step\n",
            "Downloading data from https://storage.googleapis.com/tensorflow/tf-keras-datasets/train-images-idx3-ubyte.gz\n",
            "26421880/26421880 [==============================] - 0s 0us/step\n",
            "Downloading data from https://storage.googleapis.com/tensorflow/tf-keras-datasets/t10k-labels-idx1-ubyte.gz\n",
            "5148/5148 [==============================] - 0s 0us/step\n",
            "Downloading data from https://storage.googleapis.com/tensorflow/tf-keras-datasets/t10k-images-idx3-ubyte.gz\n",
            "4422102/4422102 [==============================] - 0s 0us/step\n"
          ]
        }
      ]
    },
    {
      "cell_type": "code",
      "source": [
        "train_images = train_images / 255\n",
        "test_images = test_images / 255"
      ],
      "metadata": {
        "id": "Mb9pHFncoTM-"
      },
      "execution_count": null,
      "outputs": []
    },
    {
      "cell_type": "code",
      "source": [
        "model = keras.Sequential([\n",
        "    keras.layers.Flatten(),\n",
        "    keras.layers.Dense(128, activation= tf.nn.relu),\n",
        "    keras.layers.Dense(10, activation= tf.nn.softmax)\n",
        "])"
      ],
      "metadata": {
        "id": "GeZ_VnbSofJL"
      },
      "execution_count": null,
      "outputs": []
    },
    {
      "cell_type": "code",
      "source": [
        "model.compile(optimizer='adam', loss='sparse_categorical_crossentropy',\n",
        "              metrics='accuracy')"
      ],
      "metadata": {
        "id": "2HnJwRBvo0dK"
      },
      "execution_count": null,
      "outputs": []
    },
    {
      "cell_type": "code",
      "source": [
        "model.fit(train_images, train_labels, epochs=5)"
      ],
      "metadata": {
        "colab": {
          "base_uri": "https://localhost:8080/"
        },
        "id": "FN4lxY1zpHP8",
        "outputId": "7f55b36d-4052-4d09-a9d4-36493988e5d0"
      },
      "execution_count": null,
      "outputs": [
        {
          "output_type": "stream",
          "name": "stdout",
          "text": [
            "Epoch 1/5\n",
            "1875/1875 [==============================] - 9s 3ms/step - loss: 0.4989 - accuracy: 0.8250\n",
            "Epoch 2/5\n",
            "1875/1875 [==============================] - 4s 2ms/step - loss: 0.3755 - accuracy: 0.8647\n",
            "Epoch 3/5\n",
            "1875/1875 [==============================] - 5s 3ms/step - loss: 0.3383 - accuracy: 0.8757\n",
            "Epoch 4/5\n",
            "1875/1875 [==============================] - 4s 2ms/step - loss: 0.3133 - accuracy: 0.8843\n",
            "Epoch 5/5\n",
            "1875/1875 [==============================] - 5s 2ms/step - loss: 0.2949 - accuracy: 0.8913\n"
          ]
        },
        {
          "output_type": "execute_result",
          "data": {
            "text/plain": [
              "<keras.src.callbacks.History at 0x7a06095736a0>"
            ]
          },
          "metadata": {},
          "execution_count": 7
        }
      ]
    },
    {
      "cell_type": "code",
      "source": [
        "model.summary()"
      ],
      "metadata": {
        "colab": {
          "base_uri": "https://localhost:8080/"
        },
        "id": "3KiveS8fpIno",
        "outputId": "3d7a81a8-b029-442c-9764-3b1005490b16"
      },
      "execution_count": null,
      "outputs": [
        {
          "output_type": "stream",
          "name": "stdout",
          "text": [
            "Model: \"sequential\"\n",
            "_________________________________________________________________\n",
            " Layer (type)                Output Shape              Param #   \n",
            "=================================================================\n",
            " flatten (Flatten)           (32, 784)                 0         \n",
            "                                                                 \n",
            " dense (Dense)               (32, 128)                 100480    \n",
            "                                                                 \n",
            " dense_1 (Dense)             (32, 10)                  1290      \n",
            "                                                                 \n",
            "=================================================================\n",
            "Total params: 101770 (397.54 KB)\n",
            "Trainable params: 101770 (397.54 KB)\n",
            "Non-trainable params: 0 (0.00 Byte)\n",
            "_________________________________________________________________\n"
          ]
        }
      ]
    },
    {
      "cell_type": "code",
      "source": [
        "model.evaluate(test_images, test_labels)"
      ],
      "metadata": {
        "colab": {
          "base_uri": "https://localhost:8080/"
        },
        "id": "V8EBi7gcpizu",
        "outputId": "a52b08d3-007a-4d21-8b5a-a8ae32b51b09"
      },
      "execution_count": null,
      "outputs": [
        {
          "output_type": "stream",
          "name": "stdout",
          "text": [
            "313/313 [==============================] - 1s 2ms/step - loss: 0.3707 - accuracy: 0.8696\n"
          ]
        },
        {
          "output_type": "execute_result",
          "data": {
            "text/plain": [
              "[0.37071892619132996, 0.8695999979972839]"
            ]
          },
          "metadata": {},
          "execution_count": 9
        }
      ]
    },
    {
      "cell_type": "code",
      "source": [
        "model_convolutional_pooling_layer = keras.models.Sequential([\n",
        "\n",
        "    # Covolutional and pooling layers\n",
        "    keras.layers.Conv2D(32, (3, 3), activation='relu', input_shape=(28, 28, 1)),\n",
        "    keras.layers.MaxPooling2D(2, 2),\n",
        "    keras.layers.Conv2D(32, (3, 3), activation='relu'),\n",
        "    keras.layers.MaxPooling2D(2, 2),\n",
        "\n",
        "    # add the same layers before\n",
        "    keras.layers.Flatten(),\n",
        "    keras.layers.Dense(128, activation='relu'),\n",
        "    keras.layers.Dense(10, activation='softmax')\n",
        "\n",
        "])"
      ],
      "metadata": {
        "id": "0Y38e-w3pnUY"
      },
      "execution_count": null,
      "outputs": []
    },
    {
      "cell_type": "code",
      "source": [
        "model_convolutional_pooling_layer.summary()"
      ],
      "metadata": {
        "colab": {
          "base_uri": "https://localhost:8080/"
        },
        "id": "JkwtbljAyCsS",
        "outputId": "18324af0-a302-4609-f025-848dd845d801"
      },
      "execution_count": null,
      "outputs": [
        {
          "output_type": "stream",
          "name": "stdout",
          "text": [
            "Model: \"sequential_1\"\n",
            "_________________________________________________________________\n",
            " Layer (type)                Output Shape              Param #   \n",
            "=================================================================\n",
            " conv2d (Conv2D)             (None, 26, 26, 32)        320       \n",
            "                                                                 \n",
            " max_pooling2d (MaxPooling2  (None, 13, 13, 32)        0         \n",
            " D)                                                              \n",
            "                                                                 \n",
            " conv2d_1 (Conv2D)           (None, 11, 11, 32)        9248      \n",
            "                                                                 \n",
            " max_pooling2d_1 (MaxPoolin  (None, 5, 5, 32)          0         \n",
            " g2D)                                                            \n",
            "                                                                 \n",
            " flatten_1 (Flatten)         (None, 800)               0         \n",
            "                                                                 \n",
            " dense_2 (Dense)             (None, 128)               102528    \n",
            "                                                                 \n",
            " dense_3 (Dense)             (None, 10)                1290      \n",
            "                                                                 \n",
            "=================================================================\n",
            "Total params: 113386 (442.91 KB)\n",
            "Trainable params: 113386 (442.91 KB)\n",
            "Non-trainable params: 0 (0.00 Byte)\n",
            "_________________________________________________________________\n"
          ]
        }
      ]
    },
    {
      "cell_type": "code",
      "source": [
        "model_convolutional_pooling_layer.compile(\n",
        "    optimizer='adam',\n",
        "    loss='sparse_categorical_crossentropy',\n",
        "    metrics=['accuracy']\n",
        ")"
      ],
      "metadata": {
        "id": "JxZeLJB1yR88"
      },
      "execution_count": null,
      "outputs": []
    },
    {
      "cell_type": "code",
      "source": [
        "model_convolutional_pooling_layer.fit(train_images, train_labels, epochs=5)"
      ],
      "metadata": {
        "colab": {
          "base_uri": "https://localhost:8080/"
        },
        "id": "z7EYg0J5y-dH",
        "outputId": "c6d6f8af-ab3d-4ee9-c11d-907d3924ed56"
      },
      "execution_count": null,
      "outputs": [
        {
          "output_type": "stream",
          "name": "stdout",
          "text": [
            "Epoch 1/5\n",
            "1875/1875 [==============================] - 9s 3ms/step - loss: 0.4568 - accuracy: 0.8337\n",
            "Epoch 2/5\n",
            "1875/1875 [==============================] - 6s 3ms/step - loss: 0.3062 - accuracy: 0.8876\n",
            "Epoch 3/5\n",
            "1875/1875 [==============================] - 6s 3ms/step - loss: 0.2628 - accuracy: 0.9030\n",
            "Epoch 4/5\n",
            "1875/1875 [==============================] - 6s 3ms/step - loss: 0.2356 - accuracy: 0.9118\n",
            "Epoch 5/5\n",
            "1875/1875 [==============================] - 6s 3ms/step - loss: 0.2125 - accuracy: 0.9209\n"
          ]
        },
        {
          "output_type": "execute_result",
          "data": {
            "text/plain": [
              "<keras.src.callbacks.History at 0x7a0626b59d50>"
            ]
          },
          "metadata": {},
          "execution_count": 13
        }
      ]
    },
    {
      "cell_type": "code",
      "source": [
        "model_convolutional_pooling_layer.evaluate(test_images, test_labels)"
      ],
      "metadata": {
        "colab": {
          "base_uri": "https://localhost:8080/"
        },
        "id": "XnhjrnoNzFKF",
        "outputId": "648e559f-58ba-4a9c-aa69-60131c861c23"
      },
      "execution_count": null,
      "outputs": [
        {
          "output_type": "stream",
          "name": "stdout",
          "text": [
            "313/313 [==============================] - 1s 2ms/step - loss: 0.2640 - accuracy: 0.9031\n"
          ]
        },
        {
          "output_type": "execute_result",
          "data": {
            "text/plain": [
              "[0.26395025849342346, 0.9031000137329102]"
            ]
          },
          "metadata": {},
          "execution_count": 16
        }
      ]
    },
    {
      "cell_type": "code",
      "source": [
        "# using 16 filters\n",
        "model_convolutional_pooling_layer = keras.models.Sequential([\n",
        "\n",
        "    # Covolutional and pooling layers\n",
        "    keras.layers.Conv2D(16, (3, 3), activation='relu', input_shape=(28, 28, 1)),\n",
        "    keras.layers.MaxPooling2D(2, 2),\n",
        "    keras.layers.Conv2D(16, (3, 3), activation='relu'),\n",
        "    keras.layers.MaxPooling2D(2, 2),\n",
        "\n",
        "    # add the same layers before\n",
        "    keras.layers.Flatten(),\n",
        "    keras.layers.Dense(128, activation='relu'),\n",
        "    keras.layers.Dense(10, activation='softmax')\n",
        "\n",
        "])\n",
        "model_convolutional_pooling_layer.summary()\n",
        "model_convolutional_pooling_layer.compile(\n",
        "    optimizer='adam',\n",
        "    loss='sparse_categorical_crossentropy',\n",
        "    metrics=['accuracy']\n",
        ")\n",
        "model_convolutional_pooling_layer.fit(train_images, train_labels, epochs=5)\n",
        "model_convolutional_pooling_layer.evaluate(test_images, test_labels)"
      ],
      "metadata": {
        "colab": {
          "base_uri": "https://localhost:8080/"
        },
        "id": "4D97vmi11nd7",
        "outputId": "f3a55154-8d39-44a7-f669-e80383e56380"
      },
      "execution_count": null,
      "outputs": [
        {
          "output_type": "stream",
          "name": "stdout",
          "text": [
            "Model: \"sequential_2\"\n",
            "_________________________________________________________________\n",
            " Layer (type)                Output Shape              Param #   \n",
            "=================================================================\n",
            " conv2d_2 (Conv2D)           (None, 26, 26, 16)        160       \n",
            "                                                                 \n",
            " max_pooling2d_2 (MaxPoolin  (None, 13, 13, 16)        0         \n",
            " g2D)                                                            \n",
            "                                                                 \n",
            " conv2d_3 (Conv2D)           (None, 11, 11, 16)        2320      \n",
            "                                                                 \n",
            " max_pooling2d_3 (MaxPoolin  (None, 5, 5, 16)          0         \n",
            " g2D)                                                            \n",
            "                                                                 \n",
            " flatten_2 (Flatten)         (None, 400)               0         \n",
            "                                                                 \n",
            " dense_4 (Dense)             (None, 128)               51328     \n",
            "                                                                 \n",
            " dense_5 (Dense)             (None, 10)                1290      \n",
            "                                                                 \n",
            "=================================================================\n",
            "Total params: 55098 (215.23 KB)\n",
            "Trainable params: 55098 (215.23 KB)\n",
            "Non-trainable params: 0 (0.00 Byte)\n",
            "_________________________________________________________________\n",
            "Epoch 1/5\n",
            "1875/1875 [==============================] - 7s 3ms/step - loss: 0.5154 - accuracy: 0.8141\n",
            "Epoch 2/5\n",
            "1875/1875 [==============================] - 6s 3ms/step - loss: 0.3517 - accuracy: 0.8717\n",
            "Epoch 3/5\n",
            "1875/1875 [==============================] - 6s 3ms/step - loss: 0.3041 - accuracy: 0.8880\n",
            "Epoch 4/5\n",
            "1875/1875 [==============================] - 6s 3ms/step - loss: 0.2762 - accuracy: 0.8988\n",
            "Epoch 5/5\n",
            "1875/1875 [==============================] - 6s 3ms/step - loss: 0.2550 - accuracy: 0.9049\n",
            "313/313 [==============================] - 1s 2ms/step - loss: 0.2996 - accuracy: 0.8895\n"
          ]
        },
        {
          "output_type": "execute_result",
          "data": {
            "text/plain": [
              "[0.2996145486831665, 0.8895000219345093]"
            ]
          },
          "metadata": {},
          "execution_count": 17
        }
      ]
    },
    {
      "cell_type": "code",
      "source": [
        "# using 64 filters\n",
        "model_convolutional_pooling_layer = keras.models.Sequential([\n",
        "\n",
        "    # Covolutional and pooling layers\n",
        "    keras.layers.Conv2D(64, (3, 3), activation='relu', input_shape=(28, 28, 1)),\n",
        "    keras.layers.MaxPooling2D(2, 2),\n",
        "    keras.layers.Conv2D(64, (3, 3), activation='relu'),\n",
        "    keras.layers.MaxPooling2D(2, 2),\n",
        "\n",
        "    # add the same layers before\n",
        "    keras.layers.Flatten(),\n",
        "    keras.layers.Dense(128, activation='relu'),\n",
        "    keras.layers.Dense(10, activation='softmax')\n",
        "\n",
        "])\n",
        "model_convolutional_pooling_layer.summary()\n",
        "model_convolutional_pooling_layer.compile(\n",
        "    optimizer='adam',\n",
        "    loss='sparse_categorical_crossentropy',\n",
        "    metrics=['accuracy']\n",
        ")\n",
        "model_convolutional_pooling_layer.fit(train_images, train_labels, epochs=5)\n",
        "model_convolutional_pooling_layer.evaluate(test_images, test_labels)"
      ],
      "metadata": {
        "colab": {
          "base_uri": "https://localhost:8080/"
        },
        "id": "R7OCXk_j6PUs",
        "outputId": "be42860d-9981-4be5-f977-c83df2d7625a"
      },
      "execution_count": null,
      "outputs": [
        {
          "output_type": "stream",
          "name": "stdout",
          "text": [
            "Model: \"sequential_3\"\n",
            "_________________________________________________________________\n",
            " Layer (type)                Output Shape              Param #   \n",
            "=================================================================\n",
            " conv2d_4 (Conv2D)           (None, 26, 26, 64)        640       \n",
            "                                                                 \n",
            " max_pooling2d_4 (MaxPoolin  (None, 13, 13, 64)        0         \n",
            " g2D)                                                            \n",
            "                                                                 \n",
            " conv2d_5 (Conv2D)           (None, 11, 11, 64)        36928     \n",
            "                                                                 \n",
            " max_pooling2d_5 (MaxPoolin  (None, 5, 5, 64)          0         \n",
            " g2D)                                                            \n",
            "                                                                 \n",
            " flatten_3 (Flatten)         (None, 1600)              0         \n",
            "                                                                 \n",
            " dense_6 (Dense)             (None, 128)               204928    \n",
            "                                                                 \n",
            " dense_7 (Dense)             (None, 10)                1290      \n",
            "                                                                 \n",
            "=================================================================\n",
            "Total params: 243786 (952.29 KB)\n",
            "Trainable params: 243786 (952.29 KB)\n",
            "Non-trainable params: 0 (0.00 Byte)\n",
            "_________________________________________________________________\n",
            "Epoch 1/5\n",
            "1875/1875 [==============================] - 8s 3ms/step - loss: 0.4494 - accuracy: 0.8369\n",
            "Epoch 2/5\n",
            "1875/1875 [==============================] - 6s 3ms/step - loss: 0.2957 - accuracy: 0.8913\n",
            "Epoch 3/5\n",
            "1875/1875 [==============================] - 7s 4ms/step - loss: 0.2485 - accuracy: 0.9078\n",
            "Epoch 4/5\n",
            "1875/1875 [==============================] - 6s 3ms/step - loss: 0.2154 - accuracy: 0.9199\n",
            "Epoch 5/5\n",
            "1875/1875 [==============================] - 6s 3ms/step - loss: 0.1890 - accuracy: 0.9288\n",
            "313/313 [==============================] - 1s 3ms/step - loss: 0.2488 - accuracy: 0.9111\n"
          ]
        },
        {
          "output_type": "execute_result",
          "data": {
            "text/plain": [
              "[0.24884678423404694, 0.9110999703407288]"
            ]
          },
          "metadata": {},
          "execution_count": 18
        }
      ]
    },
    {
      "cell_type": "code",
      "source": [
        "# using 64 filters with 15 epochs\n",
        "model_convolutional_pooling_layer = keras.models.Sequential([\n",
        "\n",
        "    # Covolutional and pooling layers\n",
        "    keras.layers.Conv2D(64, (3, 3), activation='relu', input_shape=(28, 28, 1)),\n",
        "    keras.layers.MaxPooling2D(2, 2),\n",
        "    keras.layers.Conv2D(64, (3, 3), activation='relu'),\n",
        "    keras.layers.MaxPooling2D(2, 2),\n",
        "\n",
        "    # add the same layers before\n",
        "    keras.layers.Flatten(),\n",
        "    keras.layers.Dense(128, activation='relu'),\n",
        "    keras.layers.Dense(10, activation='softmax')\n",
        "\n",
        "])\n",
        "model_convolutional_pooling_layer.summary()\n",
        "model_convolutional_pooling_layer.compile(\n",
        "    optimizer='adam',\n",
        "    loss='sparse_categorical_crossentropy',\n",
        "    metrics=['accuracy']\n",
        ")\n",
        "model_convolutional_pooling_layer.fit(train_images, train_labels, epochs=15)\n",
        "model_convolutional_pooling_layer.evaluate(test_images, test_labels)"
      ],
      "metadata": {
        "colab": {
          "base_uri": "https://localhost:8080/"
        },
        "id": "iIVoIkld8gDJ",
        "outputId": "89162c95-a884-4c5f-f333-da577177ced6"
      },
      "execution_count": null,
      "outputs": [
        {
          "output_type": "stream",
          "name": "stdout",
          "text": [
            "Model: \"sequential_7\"\n",
            "_________________________________________________________________\n",
            " Layer (type)                Output Shape              Param #   \n",
            "=================================================================\n",
            " conv2d_13 (Conv2D)          (None, 26, 26, 64)        640       \n",
            "                                                                 \n",
            " max_pooling2d_13 (MaxPooli  (None, 13, 13, 64)        0         \n",
            " ng2D)                                                           \n",
            "                                                                 \n",
            " conv2d_14 (Conv2D)          (None, 11, 11, 64)        36928     \n",
            "                                                                 \n",
            " max_pooling2d_14 (MaxPooli  (None, 5, 5, 64)          0         \n",
            " ng2D)                                                           \n",
            "                                                                 \n",
            " flatten_7 (Flatten)         (None, 1600)              0         \n",
            "                                                                 \n",
            " dense_14 (Dense)            (None, 128)               204928    \n",
            "                                                                 \n",
            " dense_15 (Dense)            (None, 10)                1290      \n",
            "                                                                 \n",
            "=================================================================\n",
            "Total params: 243786 (952.29 KB)\n",
            "Trainable params: 243786 (952.29 KB)\n",
            "Non-trainable params: 0 (0.00 Byte)\n",
            "_________________________________________________________________\n",
            "Epoch 1/15\n",
            "1875/1875 [==============================] - 7s 3ms/step - loss: 0.4449 - accuracy: 0.8378\n",
            "Epoch 2/15\n",
            "1875/1875 [==============================] - 6s 3ms/step - loss: 0.2979 - accuracy: 0.8906\n",
            "Epoch 3/15\n",
            "1875/1875 [==============================] - 6s 3ms/step - loss: 0.2538 - accuracy: 0.9065\n",
            "Epoch 4/15\n",
            "1875/1875 [==============================] - 7s 4ms/step - loss: 0.2201 - accuracy: 0.9178\n",
            "Epoch 5/15\n",
            "1875/1875 [==============================] - 6s 3ms/step - loss: 0.1940 - accuracy: 0.9273\n",
            "Epoch 6/15\n",
            "1875/1875 [==============================] - 7s 4ms/step - loss: 0.1704 - accuracy: 0.9351\n",
            "Epoch 7/15\n",
            "1875/1875 [==============================] - 6s 3ms/step - loss: 0.1484 - accuracy: 0.9445\n",
            "Epoch 8/15\n",
            "1875/1875 [==============================] - 7s 4ms/step - loss: 0.1327 - accuracy: 0.9500\n",
            "Epoch 9/15\n",
            "1875/1875 [==============================] - 7s 4ms/step - loss: 0.1157 - accuracy: 0.9557\n",
            "Epoch 10/15\n",
            "1875/1875 [==============================] - 7s 4ms/step - loss: 0.1006 - accuracy: 0.9627\n",
            "Epoch 11/15\n",
            "1875/1875 [==============================] - 7s 4ms/step - loss: 0.0913 - accuracy: 0.9647\n",
            "Epoch 12/15\n",
            "1875/1875 [==============================] - 6s 3ms/step - loss: 0.0791 - accuracy: 0.9700\n",
            "Epoch 13/15\n",
            "1875/1875 [==============================] - 7s 4ms/step - loss: 0.0728 - accuracy: 0.9712\n",
            "Epoch 14/15\n",
            "1875/1875 [==============================] - 6s 3ms/step - loss: 0.0629 - accuracy: 0.9763\n",
            "Epoch 15/15\n",
            "1875/1875 [==============================] - 7s 4ms/step - loss: 0.0567 - accuracy: 0.9783\n",
            "313/313 [==============================] - 1s 2ms/step - loss: 0.4237 - accuracy: 0.9089\n"
          ]
        },
        {
          "output_type": "execute_result",
          "data": {
            "text/plain": [
              "[0.42372870445251465, 0.9089000225067139]"
            ]
          },
          "metadata": {},
          "execution_count": 22
        }
      ]
    },
    {
      "cell_type": "code",
      "source": [
        "# using 64 filters with 20 epochs\n",
        "model_convolutional_pooling_layer = keras.models.Sequential([\n",
        "\n",
        "    # Covolutional and pooling layers\n",
        "    keras.layers.Conv2D(64, (3, 3), activation='relu', input_shape=(28, 28, 1)),\n",
        "    keras.layers.MaxPooling2D(2, 2),\n",
        "    keras.layers.Conv2D(64, (3, 3), activation='relu'),\n",
        "    keras.layers.MaxPooling2D(2, 2),\n",
        "\n",
        "    # add the same layers before\n",
        "    keras.layers.Flatten(),\n",
        "    keras.layers.Dense(128, activation='relu'),\n",
        "    keras.layers.Dense(10, activation='softmax')\n",
        "\n",
        "])\n",
        "model_convolutional_pooling_layer.summary()\n",
        "model_convolutional_pooling_layer.compile(\n",
        "    optimizer='adam',\n",
        "    loss='sparse_categorical_crossentropy',\n",
        "    metrics=['accuracy']\n",
        ")\n",
        "model_convolutional_pooling_layer.fit(train_images, train_labels, epochs=20)\n",
        "model_convolutional_pooling_layer.evaluate(test_images, test_labels)"
      ],
      "metadata": {
        "colab": {
          "base_uri": "https://localhost:8080/"
        },
        "id": "S4XdL5zU9FpQ",
        "outputId": "6def4633-a981-4436-df90-c47e216d2ba6"
      },
      "execution_count": null,
      "outputs": [
        {
          "output_type": "stream",
          "name": "stdout",
          "text": [
            "Model: \"sequential_8\"\n",
            "_________________________________________________________________\n",
            " Layer (type)                Output Shape              Param #   \n",
            "=================================================================\n",
            " conv2d_15 (Conv2D)          (None, 26, 26, 64)        640       \n",
            "                                                                 \n",
            " max_pooling2d_15 (MaxPooli  (None, 13, 13, 64)        0         \n",
            " ng2D)                                                           \n",
            "                                                                 \n",
            " conv2d_16 (Conv2D)          (None, 11, 11, 64)        36928     \n",
            "                                                                 \n",
            " max_pooling2d_16 (MaxPooli  (None, 5, 5, 64)          0         \n",
            " ng2D)                                                           \n",
            "                                                                 \n",
            " flatten_8 (Flatten)         (None, 1600)              0         \n",
            "                                                                 \n",
            " dense_16 (Dense)            (None, 128)               204928    \n",
            "                                                                 \n",
            " dense_17 (Dense)            (None, 10)                1290      \n",
            "                                                                 \n",
            "=================================================================\n",
            "Total params: 243786 (952.29 KB)\n",
            "Trainable params: 243786 (952.29 KB)\n",
            "Non-trainable params: 0 (0.00 Byte)\n",
            "_________________________________________________________________\n",
            "Epoch 1/20\n",
            "1875/1875 [==============================] - 8s 4ms/step - loss: 0.4416 - accuracy: 0.8403\n",
            "Epoch 2/20\n",
            "1875/1875 [==============================] - 6s 3ms/step - loss: 0.2925 - accuracy: 0.8921\n",
            "Epoch 3/20\n",
            "1875/1875 [==============================] - 6s 3ms/step - loss: 0.2471 - accuracy: 0.9085\n",
            "Epoch 4/20\n",
            "1875/1875 [==============================] - 6s 3ms/step - loss: 0.2182 - accuracy: 0.9189\n",
            "Epoch 5/20\n",
            "1875/1875 [==============================] - 6s 3ms/step - loss: 0.1916 - accuracy: 0.9274\n",
            "Epoch 6/20\n",
            "1875/1875 [==============================] - 7s 4ms/step - loss: 0.1685 - accuracy: 0.9362\n",
            "Epoch 7/20\n",
            "1875/1875 [==============================] - 6s 3ms/step - loss: 0.1479 - accuracy: 0.9440\n",
            "Epoch 8/20\n",
            "1875/1875 [==============================] - 7s 4ms/step - loss: 0.1303 - accuracy: 0.9510\n",
            "Epoch 9/20\n",
            "1875/1875 [==============================] - 6s 3ms/step - loss: 0.1154 - accuracy: 0.9558\n",
            "Epoch 10/20\n",
            "1875/1875 [==============================] - 7s 4ms/step - loss: 0.1039 - accuracy: 0.9606\n",
            "Epoch 11/20\n",
            "1875/1875 [==============================] - 6s 3ms/step - loss: 0.0893 - accuracy: 0.9662\n",
            "Epoch 12/20\n",
            "1875/1875 [==============================] - 7s 4ms/step - loss: 0.0804 - accuracy: 0.9695\n",
            "Epoch 13/20\n",
            "1875/1875 [==============================] - 6s 3ms/step - loss: 0.0720 - accuracy: 0.9727\n",
            "Epoch 14/20\n",
            "1875/1875 [==============================] - 7s 4ms/step - loss: 0.0645 - accuracy: 0.9760\n",
            "Epoch 15/20\n",
            "1875/1875 [==============================] - 6s 3ms/step - loss: 0.0609 - accuracy: 0.9775\n",
            "Epoch 16/20\n",
            "1875/1875 [==============================] - 7s 4ms/step - loss: 0.0522 - accuracy: 0.9801\n",
            "Epoch 17/20\n",
            "1875/1875 [==============================] - 6s 3ms/step - loss: 0.0474 - accuracy: 0.9823\n",
            "Epoch 18/20\n",
            "1875/1875 [==============================] - 7s 4ms/step - loss: 0.0446 - accuracy: 0.9833\n",
            "Epoch 19/20\n",
            "1875/1875 [==============================] - 7s 3ms/step - loss: 0.0404 - accuracy: 0.9843\n",
            "Epoch 20/20\n",
            "1875/1875 [==============================] - 6s 3ms/step - loss: 0.0381 - accuracy: 0.9862\n",
            "313/313 [==============================] - 1s 2ms/step - loss: 0.4869 - accuracy: 0.9094\n"
          ]
        },
        {
          "output_type": "execute_result",
          "data": {
            "text/plain": [
              "[0.4868966341018677, 0.9093999862670898]"
            ]
          },
          "metadata": {},
          "execution_count": 23
        }
      ]
    },
    {
      "cell_type": "code",
      "source": [
        "# using one convolution layer\n",
        "model_convolutional_pooling_layer = keras.models.Sequential([\n",
        "\n",
        "    # Covolutional and pooling layers\n",
        "    keras.layers.Conv2D(64, (3, 3), activation='relu', input_shape=(28, 28, 1)),\n",
        "    keras.layers.MaxPooling2D(2, 2),\n",
        "\n",
        "    # add the same layers before\n",
        "    keras.layers.Flatten(),\n",
        "    keras.layers.Dense(128, activation='relu'),\n",
        "    keras.layers.Dense(10, activation='softmax')\n",
        "\n",
        "])\n",
        "model_convolutional_pooling_layer.summary()\n",
        "model_convolutional_pooling_layer.compile(\n",
        "    optimizer='adam',\n",
        "    loss='sparse_categorical_crossentropy',\n",
        "    metrics=['accuracy']\n",
        ")\n",
        "model_convolutional_pooling_layer.fit(train_images, train_labels, epochs=5)\n",
        "model_convolutional_pooling_layer.evaluate(test_images, test_labels)"
      ],
      "metadata": {
        "colab": {
          "base_uri": "https://localhost:8080/"
        },
        "id": "aPr4P3hy6TY1",
        "outputId": "c20d27df-cfed-495b-c2e1-8ebd0df43bea"
      },
      "execution_count": null,
      "outputs": [
        {
          "output_type": "stream",
          "name": "stdout",
          "text": [
            "Model: \"sequential_4\"\n",
            "_________________________________________________________________\n",
            " Layer (type)                Output Shape              Param #   \n",
            "=================================================================\n",
            " conv2d_6 (Conv2D)           (None, 26, 26, 64)        640       \n",
            "                                                                 \n",
            " max_pooling2d_6 (MaxPoolin  (None, 13, 13, 64)        0         \n",
            " g2D)                                                            \n",
            "                                                                 \n",
            " flatten_4 (Flatten)         (None, 10816)             0         \n",
            "                                                                 \n",
            " dense_8 (Dense)             (None, 128)               1384576   \n",
            "                                                                 \n",
            " dense_9 (Dense)             (None, 10)                1290      \n",
            "                                                                 \n",
            "=================================================================\n",
            "Total params: 1386506 (5.29 MB)\n",
            "Trainable params: 1386506 (5.29 MB)\n",
            "Non-trainable params: 0 (0.00 Byte)\n",
            "_________________________________________________________________\n",
            "Epoch 1/5\n",
            "1875/1875 [==============================] - 6s 3ms/step - loss: 0.3697 - accuracy: 0.8679\n",
            "Epoch 2/5\n",
            "1875/1875 [==============================] - 6s 3ms/step - loss: 0.2471 - accuracy: 0.9096\n",
            "Epoch 3/5\n",
            "1875/1875 [==============================] - 5s 3ms/step - loss: 0.2024 - accuracy: 0.9247\n",
            "Epoch 4/5\n",
            "1875/1875 [==============================] - 6s 3ms/step - loss: 0.1681 - accuracy: 0.9373\n",
            "Epoch 5/5\n",
            "1875/1875 [==============================] - 5s 3ms/step - loss: 0.1398 - accuracy: 0.9481\n",
            "313/313 [==============================] - 1s 2ms/step - loss: 0.2503 - accuracy: 0.9174\n"
          ]
        },
        {
          "output_type": "execute_result",
          "data": {
            "text/plain": [
              "[0.2503317892551422, 0.9174000024795532]"
            ]
          },
          "metadata": {},
          "execution_count": 19
        }
      ]
    },
    {
      "cell_type": "code",
      "source": [
        "# using 3 convolutions\n",
        "model_convolutional_pooling_layer = keras.models.Sequential([\n",
        "\n",
        "    # Covolutional and pooling layers\n",
        "    keras.layers.Conv2D(64, (3, 3), activation='relu', input_shape=(28, 28, 1)),\n",
        "    keras.layers.MaxPooling2D(2, 2),\n",
        "    keras.layers.Conv2D(64, (3, 3), activation='relu'),\n",
        "    keras.layers.MaxPooling2D(2, 2),\n",
        "    keras.layers.Conv2D(64, (3, 3), activation='relu'),\n",
        "    keras.layers.MaxPooling2D(2, 2),\n",
        "\n",
        "    # add the same layers before\n",
        "    keras.layers.Flatten(),\n",
        "    keras.layers.Dense(128, activation='relu'),\n",
        "    keras.layers.Dense(10, activation='softmax')\n",
        "\n",
        "])\n",
        "model_convolutional_pooling_layer.summary()\n",
        "model_convolutional_pooling_layer.compile(\n",
        "    optimizer='adam',\n",
        "    loss='sparse_categorical_crossentropy',\n",
        "    metrics=['accuracy']\n",
        ")\n",
        "model_convolutional_pooling_layer.fit(train_images, train_labels, epochs=15)\n",
        "print(\"testing data\")\n",
        "model_convolutional_pooling_layer.evaluate(test_images, test_labels)"
      ],
      "metadata": {
        "colab": {
          "base_uri": "https://localhost:8080/"
        },
        "id": "L42n_u2N6vKF",
        "outputId": "1facde50-d4f3-4a41-90e6-ca4ca5f9cc7a"
      },
      "execution_count": null,
      "outputs": [
        {
          "output_type": "stream",
          "name": "stdout",
          "text": [
            "Model: \"sequential_6\"\n",
            "_________________________________________________________________\n",
            " Layer (type)                Output Shape              Param #   \n",
            "=================================================================\n",
            " conv2d_10 (Conv2D)          (None, 26, 26, 64)        640       \n",
            "                                                                 \n",
            " max_pooling2d_10 (MaxPooli  (None, 13, 13, 64)        0         \n",
            " ng2D)                                                           \n",
            "                                                                 \n",
            " conv2d_11 (Conv2D)          (None, 11, 11, 64)        36928     \n",
            "                                                                 \n",
            " max_pooling2d_11 (MaxPooli  (None, 5, 5, 64)          0         \n",
            " ng2D)                                                           \n",
            "                                                                 \n",
            " conv2d_12 (Conv2D)          (None, 3, 3, 64)          36928     \n",
            "                                                                 \n",
            " max_pooling2d_12 (MaxPooli  (None, 1, 1, 64)          0         \n",
            " ng2D)                                                           \n",
            "                                                                 \n",
            " flatten_6 (Flatten)         (None, 64)                0         \n",
            "                                                                 \n",
            " dense_12 (Dense)            (None, 128)               8320      \n",
            "                                                                 \n",
            " dense_13 (Dense)            (None, 10)                1290      \n",
            "                                                                 \n",
            "=================================================================\n",
            "Total params: 84106 (328.54 KB)\n",
            "Trainable params: 84106 (328.54 KB)\n",
            "Non-trainable params: 0 (0.00 Byte)\n",
            "_________________________________________________________________\n",
            "Epoch 1/15\n",
            "1875/1875 [==============================] - 9s 4ms/step - loss: 0.5644 - accuracy: 0.7929\n",
            "Epoch 2/15\n",
            "1875/1875 [==============================] - 7s 4ms/step - loss: 0.3840 - accuracy: 0.8589\n",
            "Epoch 3/15\n",
            "1875/1875 [==============================] - 7s 3ms/step - loss: 0.3319 - accuracy: 0.8774\n",
            "Epoch 4/15\n",
            "1875/1875 [==============================] - 7s 4ms/step - loss: 0.2947 - accuracy: 0.8918\n",
            "Epoch 5/15\n",
            "1875/1875 [==============================] - 6s 3ms/step - loss: 0.2710 - accuracy: 0.8998\n",
            "Epoch 6/15\n",
            "1875/1875 [==============================] - 7s 4ms/step - loss: 0.2466 - accuracy: 0.9087\n",
            "Epoch 7/15\n",
            "1875/1875 [==============================] - 7s 4ms/step - loss: 0.2309 - accuracy: 0.9148\n",
            "Epoch 8/15\n",
            "1875/1875 [==============================] - 7s 4ms/step - loss: 0.2166 - accuracy: 0.9184\n",
            "Epoch 9/15\n",
            "1875/1875 [==============================] - 7s 4ms/step - loss: 0.2001 - accuracy: 0.9258\n",
            "Epoch 10/15\n",
            "1875/1875 [==============================] - 7s 4ms/step - loss: 0.1877 - accuracy: 0.9291\n",
            "Epoch 11/15\n",
            "1875/1875 [==============================] - 7s 4ms/step - loss: 0.1778 - accuracy: 0.9337\n",
            "Epoch 12/15\n",
            "1875/1875 [==============================] - 7s 4ms/step - loss: 0.1654 - accuracy: 0.9384\n",
            "Epoch 13/15\n",
            "1875/1875 [==============================] - 7s 4ms/step - loss: 0.1549 - accuracy: 0.9426\n",
            "Epoch 14/15\n",
            "1875/1875 [==============================] - 7s 4ms/step - loss: 0.1465 - accuracy: 0.9457\n",
            "Epoch 15/15\n",
            "1875/1875 [==============================] - 7s 4ms/step - loss: 0.1383 - accuracy: 0.9481\n",
            "testing data\n",
            "313/313 [==============================] - 1s 2ms/step - loss: 0.4195 - accuracy: 0.8834\n"
          ]
        },
        {
          "output_type": "execute_result",
          "data": {
            "text/plain": [
              "[0.41952577233314514, 0.883400022983551]"
            ]
          },
          "metadata": {},
          "execution_count": 21
        }
      ]
    },
    {
      "cell_type": "code",
      "source": [
        "class myCallBacks(keras.callbacks.Callback):\n",
        "    def on_epoch_end(self, epoch, logs={}):\n",
        "        if logs.get('accuracy')>0.92:\n",
        "            self.model.stop_training =True\n",
        "callBacks = myCallBacks()"
      ],
      "metadata": {
        "id": "JsvEXOhH6_fM"
      },
      "execution_count": null,
      "outputs": []
    },
    {
      "cell_type": "code",
      "source": [
        "model_convolutional_pooling_layer.fit(train_images, train_labels, epochs=15, callbacks=[callBacks])"
      ],
      "metadata": {
        "colab": {
          "base_uri": "https://localhost:8080/"
        },
        "id": "wiqjfu-6-Yf3",
        "outputId": "6cd10ce2-dc7b-4e55-f273-4ed80d63bc2a"
      },
      "execution_count": null,
      "outputs": [
        {
          "output_type": "stream",
          "name": "stdout",
          "text": [
            "Epoch 1/15\n",
            "1875/1875 [==============================] - 7s 4ms/step - loss: 0.0398 - accuracy: 0.9856\n"
          ]
        },
        {
          "output_type": "execute_result",
          "data": {
            "text/plain": [
              "<keras.src.callbacks.History at 0x7a059870e980>"
            ]
          },
          "metadata": {},
          "execution_count": 25
        }
      ]
    },
    {
      "cell_type": "code",
      "source": [],
      "metadata": {
        "id": "lyoPVW9n-nfN"
      },
      "execution_count": null,
      "outputs": []
    }
  ]
}
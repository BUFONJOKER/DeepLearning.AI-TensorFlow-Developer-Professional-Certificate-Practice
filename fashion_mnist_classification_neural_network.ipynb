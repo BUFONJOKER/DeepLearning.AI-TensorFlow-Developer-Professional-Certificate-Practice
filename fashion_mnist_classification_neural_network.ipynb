{
 "cells": [
  {
   "cell_type": "code",
   "execution_count": 1,
   "metadata": {},
   "outputs": [],
   "source": [
    "import tensorflow as tf\n",
    "from tensorflow import keras\n",
    "import numpy as np\n",
    "import matplotlib.pyplot as plt"
   ]
  },
  {
   "cell_type": "code",
   "execution_count": 2,
   "metadata": {},
   "outputs": [
    {
     "name": "stdout",
     "output_type": "stream",
     "text": [
      "2.15.0\n"
     ]
    }
   ],
   "source": [
    "print(tf.__version__)"
   ]
  },
  {
   "cell_type": "code",
   "execution_count": 3,
   "metadata": {},
   "outputs": [],
   "source": [
    "# load fashion mnist dataset\n",
    "fashion_mnist = tf.keras.datasets.fashion_mnist"
   ]
  },
  {
   "cell_type": "code",
   "execution_count": 4,
   "metadata": {},
   "outputs": [],
   "source": [
    "(train_images, train_labels), (test_images, test_labels) = fashion_mnist.load_data()"
   ]
  },
  {
   "cell_type": "code",
   "execution_count": 5,
   "metadata": {},
   "outputs": [
    {
     "data": {
      "text/plain": [
       "(60000, 28, 28)"
      ]
     },
     "execution_count": 5,
     "metadata": {},
     "output_type": "execute_result"
    }
   ],
   "source": [
    "train_images.shape"
   ]
  },
  {
   "cell_type": "code",
   "execution_count": 6,
   "metadata": {},
   "outputs": [
    {
     "data": {
      "text/plain": [
       "(10000, 28, 28)"
      ]
     },
     "execution_count": 6,
     "metadata": {},
     "output_type": "execute_result"
    }
   ],
   "source": [
    "test_images.shape"
   ]
  },
  {
   "cell_type": "code",
   "execution_count": 7,
   "metadata": {},
   "outputs": [
    {
     "name": "stdout",
     "output_type": "stream",
     "text": [
      "0\n",
      "[[  0   0   0   0   0   1   0   0   0   0  41 188 103  54  48  43  87 168 133  16   0   0   0   0   0   0   0   0]\n",
      " [  0   0   0   1   0   0   0  49 136 219 216 228 236 255 255 255 255 217 215 254 231 160  45   0   0   0   0   0]\n",
      " [  0   0   0   0   0  14 176 222 224 212 203 198 196 200 215 204 202 201 201 201 209 218 224 164   0   0   0   0]\n",
      " [  0   0   0   0   0 188 219 200 198 202 198 199 199 201 196 198 198 200 200 200 200 201 200 225  41   0   0   0]\n",
      " [  0   0   0   0  51 219 199 203 203 212 238 248 250 245 249 246 247 252 248 235 207 203 203 222 140   0   0   0]\n",
      " [  0   0   0   0 116 226 206 204 207 204 101  75  47  73  48  50  45  51  63 113 222 202 206 220 224   0   0   0]\n",
      " [  0   0   0   0 200 222 209 203 215 200   0  70  98   0 103  59  68  71  49   0 219 206 214 210 250  38   0   0]\n",
      " [  0   0   0   0 247 218 212 210 215 214   0 254 243 139 255 174 251 255 205   0 215 217 214 208 220  95   0   0]\n",
      " [  0   0   0  45 226 214 214 215 224 205   0  42  35  60  16  17  12  13  70   0 189 216 212 206 212 156   0   0]\n",
      " [  0   0   0 164 235 214 211 220 216 201  52  71  89  94  83  78  70  76  92  87 206 207 222 213 219 208   0   0]\n",
      " [  0   0   0 106 187 223 237 248 211 198 252 250 248 245 248 252 253 250 252 239 201 212 225 215 193 113   0   0]\n",
      " [  0   0   0   0   0  17  54 159 222 193 208 192 197 200 200 200 200 201 203 195 210 165   0   0   0   0   0   0]\n",
      " [  0   0   0   0   0   0   0  47 225 192 214 203 206 204 204 205 206 204 212 197 218 107   0   0   0   0   0   0]\n",
      " [  0   0   0   0   1   6   0  46 212 195 212 202 206 205 204 205 206 204 212 200 218  91   0   3   1   0   0   0]\n",
      " [  0   0   0   0   0   1   0  11 197 199 205 202 205 206 204 205 207 204 205 205 218  77   0   5   0   0   0   0]\n",
      " [  0   0   0   0   0   3   0   2 191 198 201 205 206 205 205 206 209 206 199 209 219  74   0   5   0   0   0   0]\n",
      " [  0   0   0   0   0   2   0   0 188 197 200 207 207 204 207 207 210 208 198 207 221  72   0   4   0   0   0   0]\n",
      " [  0   0   0   0   0   2   0   0 215 198 203 206 208 205 207 207 210 208 200 202 222  75   0   4   0   0   0   0]\n",
      " [  0   0   0   0   0   1   0   0 212 198 209 206 209 206 208 207 211 206 205 198 221  80   0   3   0   0   0   0]\n",
      " [  0   0   0   0   0   1   0   0 204 201 205 208 207 205 211 205 210 210 209 195 221  96   0   3   0   0   0   0]\n",
      " [  0   0   0   0   0   1   0   0 202 201 205 209 207 205 213 206 210 209 210 194 217 105   0   2   0   0   0   0]\n",
      " [  0   0   0   0   0   1   0   0 204 204 205 208 207 205 215 207 210 208 211 193 213 115   0   2   0   0   0   0]\n",
      " [  0   0   0   0   0   0   0   0 204 207 207 208 206 206 215 210 210 207 212 195 210 118   0   2   0   0   0   0]\n",
      " [  0   0   0   0   0   1   0   0 198 208 208 208 204 207 212 212 210 207 211 196 207 121   0   1   0   0   0   0]\n",
      " [  0   0   0   0   0   1   0   0 198 210 207 208 206 209 213 212 211 207 210 197 207 124   0   1   0   0   0   0]\n",
      " [  0   0   0   0   0   0   0   0 172 210 203 201 199 204 207 205 204 201 205 197 206 127   0   0   0   0   0   0]\n",
      " [  0   0   0   0   0   0   0   0 188 221 214 234 236 238 244 244 244 240 243 214 224 162   0   2   0   0   0   0]\n",
      " [  0   0   0   0   0   1   0   0 139 146 130 135 135 137 125 124 125 121 119 114 130  76   0   0   0   0   0   0]]\n"
     ]
    }
   ],
   "source": [
    "index = 0\n",
    "\n",
    "np.set_printoptions(linewidth=300)\n",
    "\n",
    "print(train_labels[1])\n",
    "print(train_images[1])"
   ]
  },
  {
   "cell_type": "code",
   "execution_count": 8,
   "metadata": {},
   "outputs": [
    {
     "data": {
      "image/png": "[encoded data removed]",
      "text/plain": [
       "<Figure size 640x480 with 1 Axes>"
      ]
     },
     "metadata": {},
     "output_type": "display_data"
    }
   ],
   "source": [
    "plt.imshow(train_images[0], cmap=\"Greys\")\n",
    "plt.show()"
   ]
  },
  {
   "cell_type": "code",
   "execution_count": 9,
   "metadata": {},
   "outputs": [],
   "source": [
    "# normalizing the data\n",
    "\n",
    "train_images = train_images /  255.0\n",
    "test_images = test_images / 255.0"
   ]
  },
  {
   "cell_type": "code",
   "execution_count": 10,
   "metadata": {},
   "outputs": [
    {
     "name": "stdout",
     "output_type": "stream",
     "text": [
      "[[0.         0.         0.         0.         0.         0.00392157 0.         0.         0.         0.         0.16078431 0.7372549  0.40392157 0.21176471 0.18823529 0.16862745 0.34117647\n",
      "  0.65882353 0.52156863 0.0627451  0.         0.         0.         0.         0.         0.         0.         0.        ]\n",
      " [0.         0.         0.         0.00392157 0.         0.         0.         0.19215686 0.53333333 0.85882353 0.84705882 0.89411765 0.9254902  1.         1.         1.         1.\n",
      "  0.85098039 0.84313725 0.99607843 0.90588235 0.62745098 0.17647059 0.         0.         0.         0.         0.        ]\n",
      " [0.         0.         0.         0.         0.         0.05490196 0.69019608 0.87058824 0.87843137 0.83137255 0.79607843 0.77647059 0.76862745 0.78431373 0.84313725 0.8        0.79215686\n",
      "  0.78823529 0.78823529 0.78823529 0.81960784 0.85490196 0.87843137 0.64313725 0.         0.         0.         0.        ]\n",
      " [0.         0.         0.         0.         0.         0.7372549  0.85882353 0.78431373 0.77647059 0.79215686 0.77647059 0.78039216 0.78039216 0.78823529 0.76862745 0.77647059 0.77647059\n",
      "  0.78431373 0.78431373 0.78431373 0.78431373 0.78823529 0.78431373 0.88235294 0.16078431 0.         0.         0.        ]\n",
      " [0.         0.         0.         0.         0.2        0.85882353 0.78039216 0.79607843 0.79607843 0.83137255 0.93333333 0.97254902 0.98039216 0.96078431 0.97647059 0.96470588 0.96862745\n",
      "  0.98823529 0.97254902 0.92156863 0.81176471 0.79607843 0.79607843 0.87058824 0.54901961 0.         0.         0.        ]\n",
      " [0.         0.         0.         0.         0.45490196 0.88627451 0.80784314 0.8        0.81176471 0.8        0.39607843 0.29411765 0.18431373 0.28627451 0.18823529 0.19607843 0.17647059\n",
      "  0.2        0.24705882 0.44313725 0.87058824 0.79215686 0.80784314 0.8627451  0.87843137 0.         0.         0.        ]\n",
      " [0.         0.         0.         0.         0.78431373 0.87058824 0.81960784 0.79607843 0.84313725 0.78431373 0.         0.2745098  0.38431373 0.         0.40392157 0.23137255 0.26666667\n",
      "  0.27843137 0.19215686 0.         0.85882353 0.80784314 0.83921569 0.82352941 0.98039216 0.14901961 0.         0.        ]\n",
      " [0.         0.         0.         0.         0.96862745 0.85490196 0.83137255 0.82352941 0.84313725 0.83921569 0.         0.99607843 0.95294118 0.54509804 1.         0.68235294 0.98431373\n",
      "  1.         0.80392157 0.         0.84313725 0.85098039 0.83921569 0.81568627 0.8627451  0.37254902 0.         0.        ]\n",
      " [0.         0.         0.         0.17647059 0.88627451 0.83921569 0.83921569 0.84313725 0.87843137 0.80392157 0.         0.16470588 0.1372549  0.23529412 0.0627451  0.06666667 0.04705882\n",
      "  0.05098039 0.2745098  0.         0.74117647 0.84705882 0.83137255 0.80784314 0.83137255 0.61176471 0.         0.        ]\n",
      " [0.         0.         0.         0.64313725 0.92156863 0.83921569 0.82745098 0.8627451  0.84705882 0.78823529 0.20392157 0.27843137 0.34901961 0.36862745 0.3254902  0.30588235 0.2745098\n",
      "  0.29803922 0.36078431 0.34117647 0.80784314 0.81176471 0.87058824 0.83529412 0.85882353 0.81568627 0.         0.        ]\n",
      " [0.         0.         0.         0.41568627 0.73333333 0.8745098  0.92941176 0.97254902 0.82745098 0.77647059 0.98823529 0.98039216 0.97254902 0.96078431 0.97254902 0.98823529 0.99215686\n",
      "  0.98039216 0.98823529 0.9372549  0.78823529 0.83137255 0.88235294 0.84313725 0.75686275 0.44313725 0.         0.        ]\n",
      " [0.         0.         0.         0.         0.         0.06666667 0.21176471 0.62352941 0.87058824 0.75686275 0.81568627 0.75294118 0.77254902 0.78431373 0.78431373 0.78431373 0.78431373\n",
      "  0.78823529 0.79607843 0.76470588 0.82352941 0.64705882 0.         0.         0.         0.         0.         0.        ]\n",
      " [0.         0.         0.         0.         0.         0.         0.         0.18431373 0.88235294 0.75294118 0.83921569 0.79607843 0.80784314 0.8        0.8        0.80392157 0.80784314\n",
      "  0.8        0.83137255 0.77254902 0.85490196 0.41960784 0.         0.         0.         0.         0.         0.        ]\n",
      " [0.         0.         0.         0.         0.00392157 0.02352941 0.         0.18039216 0.83137255 0.76470588 0.83137255 0.79215686 0.80784314 0.80392157 0.8        0.80392157 0.80784314\n",
      "  0.8        0.83137255 0.78431373 0.85490196 0.35686275 0.         0.01176471 0.00392157 0.         0.         0.        ]\n",
      " [0.         0.         0.         0.         0.         0.00392157 0.         0.04313725 0.77254902 0.78039216 0.80392157 0.79215686 0.80392157 0.80784314 0.8        0.80392157 0.81176471\n",
      "  0.8        0.80392157 0.80392157 0.85490196 0.30196078 0.         0.01960784 0.         0.         0.         0.        ]\n",
      " [0.         0.         0.         0.         0.         0.01176471 0.         0.00784314 0.74901961 0.77647059 0.78823529 0.80392157 0.80784314 0.80392157 0.80392157 0.80784314 0.81960784\n",
      "  0.80784314 0.78039216 0.81960784 0.85882353 0.29019608 0.         0.01960784 0.         0.         0.         0.        ]\n",
      " [0.         0.         0.         0.         0.         0.00784314 0.         0.         0.7372549  0.77254902 0.78431373 0.81176471 0.81176471 0.8        0.81176471 0.81176471 0.82352941\n",
      "  0.81568627 0.77647059 0.81176471 0.86666667 0.28235294 0.         0.01568627 0.         0.         0.         0.        ]\n",
      " [0.         0.         0.         0.         0.         0.00784314 0.         0.         0.84313725 0.77647059 0.79607843 0.80784314 0.81568627 0.80392157 0.81176471 0.81176471 0.82352941\n",
      "  0.81568627 0.78431373 0.79215686 0.87058824 0.29411765 0.         0.01568627 0.         0.         0.         0.        ]\n",
      " [0.         0.         0.         0.         0.         0.00392157 0.         0.         0.83137255 0.77647059 0.81960784 0.80784314 0.81960784 0.80784314 0.81568627 0.81176471 0.82745098\n",
      "  0.80784314 0.80392157 0.77647059 0.86666667 0.31372549 0.         0.01176471 0.         0.         0.         0.        ]\n",
      " [0.         0.         0.         0.         0.         0.00392157 0.         0.         0.8        0.78823529 0.80392157 0.81568627 0.81176471 0.80392157 0.82745098 0.80392157 0.82352941\n",
      "  0.82352941 0.81960784 0.76470588 0.86666667 0.37647059 0.         0.01176471 0.         0.         0.         0.        ]\n",
      " [0.         0.         0.         0.         0.         0.00392157 0.         0.         0.79215686 0.78823529 0.80392157 0.81960784 0.81176471 0.80392157 0.83529412 0.80784314 0.82352941\n",
      "  0.81960784 0.82352941 0.76078431 0.85098039 0.41176471 0.         0.00784314 0.         0.         0.         0.        ]\n",
      " [0.         0.         0.         0.         0.         0.00392157 0.         0.         0.8        0.8        0.80392157 0.81568627 0.81176471 0.80392157 0.84313725 0.81176471 0.82352941\n",
      "  0.81568627 0.82745098 0.75686275 0.83529412 0.45098039 0.         0.00784314 0.         0.         0.         0.        ]\n",
      " [0.         0.         0.         0.         0.         0.         0.         0.         0.8        0.81176471 0.81176471 0.81568627 0.80784314 0.80784314 0.84313725 0.82352941 0.82352941\n",
      "  0.81176471 0.83137255 0.76470588 0.82352941 0.4627451  0.         0.00784314 0.         0.         0.         0.        ]\n",
      " [0.         0.         0.         0.         0.         0.00392157 0.         0.         0.77647059 0.81568627 0.81568627 0.81568627 0.8        0.81176471 0.83137255 0.83137255 0.82352941\n",
      "  0.81176471 0.82745098 0.76862745 0.81176471 0.4745098  0.         0.00392157 0.         0.         0.         0.        ]\n",
      " [0.         0.         0.         0.         0.         0.00392157 0.         0.         0.77647059 0.82352941 0.81176471 0.81568627 0.80784314 0.81960784 0.83529412 0.83137255 0.82745098\n",
      "  0.81176471 0.82352941 0.77254902 0.81176471 0.48627451 0.         0.00392157 0.         0.         0.         0.        ]\n",
      " [0.         0.         0.         0.         0.         0.         0.         0.         0.6745098  0.82352941 0.79607843 0.78823529 0.78039216 0.8        0.81176471 0.80392157 0.8\n",
      "  0.78823529 0.80392157 0.77254902 0.80784314 0.49803922 0.         0.         0.         0.         0.         0.        ]\n",
      " [0.         0.         0.         0.         0.         0.         0.         0.         0.7372549  0.86666667 0.83921569 0.91764706 0.9254902  0.93333333 0.95686275 0.95686275 0.95686275\n",
      "  0.94117647 0.95294118 0.83921569 0.87843137 0.63529412 0.         0.00784314 0.         0.         0.         0.        ]\n",
      " [0.         0.         0.         0.         0.         0.00392157 0.         0.         0.54509804 0.57254902 0.50980392 0.52941176 0.52941176 0.5372549  0.49019608 0.48627451 0.49019608\n",
      "  0.4745098  0.46666667 0.44705882 0.50980392 0.29803922 0.         0.         0.         0.         0.         0.        ]]\n"
     ]
    }
   ],
   "source": [
    "np.set_printoptions(linewidth=200)\n",
    "\n",
    "print(train_images[1])"
   ]
  },
  {
   "cell_type": "code",
   "execution_count": 12,
   "metadata": {},
   "outputs": [
    {
     "name": "stdout",
     "output_type": "stream",
     "text": [
      "WARNING:tensorflow:From C:\\Users\\abdul\\AppData\\Local\\Packages\\PythonSoftwareFoundation.Python.3.11_qbz5n2kfra8p0\\LocalCache\\local-packages\\Python311\\site-packages\\keras\\src\\backend.py:873: The name tf.get_default_graph is deprecated. Please use tf.compat.v1.get_default_graph instead.\n",
      "\n"
     ]
    }
   ],
   "source": [
    "# building the classification model\n",
    "\n",
    "model = keras.models.Sequential([\n",
    "    keras.layers.Flatten(input_shape = (28, 28)),\n",
    "    keras.layers.Dense(128, activation=tf.nn.relu),\n",
    "    keras.layers.Dense(10, activation=tf.nn.softmax)\n",
    "])"
   ]
  },
  {
   "cell_type": "code",
   "execution_count": 22,
   "metadata": {},
   "outputs": [
    {
     "name": "stdout",
     "output_type": "stream",
     "text": [
      "Epoch 1/5\n",
      "WARNING:tensorflow:From C:\\Users\\abdul\\AppData\\Local\\Packages\\PythonSoftwareFoundation.Python.3.11_qbz5n2kfra8p0\\LocalCache\\local-packages\\Python311\\site-packages\\keras\\src\\utils\\tf_utils.py:492: The name tf.ragged.RaggedTensorValue is deprecated. Please use tf.compat.v1.ragged.RaggedTensorValue instead.\n",
      "\n",
      "WARNING:tensorflow:From C:\\Users\\abdul\\AppData\\Local\\Packages\\PythonSoftwareFoundation.Python.3.11_qbz5n2kfra8p0\\LocalCache\\local-packages\\Python311\\site-packages\\keras\\src\\engine\\base_layer_utils.py:384: The name tf.executing_eagerly_outside_functions is deprecated. Please use tf.compat.v1.executing_eagerly_outside_functions instead.\n",
      "\n",
      "1875/1875 [==============================] - 6s 3ms/step - loss: 0.4978 - accuracy: 0.8251\n",
      "Epoch 2/5\n",
      "1875/1875 [==============================] - 5s 3ms/step - loss: 0.3733 - accuracy: 0.8652\n",
      "Epoch 3/5\n",
      "1875/1875 [==============================] - 5s 3ms/step - loss: 0.3357 - accuracy: 0.8769\n",
      "Epoch 4/5\n",
      "1875/1875 [==============================] - 5s 3ms/step - loss: 0.3147 - accuracy: 0.8838\n",
      "Epoch 5/5\n",
      "1875/1875 [==============================] - 5s 3ms/step - loss: 0.2949 - accuracy: 0.8921\n"
     ]
    },
    {
     "data": {
      "text/plain": [
       "<keras.src.callbacks.History at 0x25748a9ffd0>"
      ]
     },
     "execution_count": 22,
     "metadata": {},
     "output_type": "execute_result"
    }
   ],
   "source": [
    "model.compile(\n",
    "    optimizer=tf.optimizers.Adam(),\n",
    "    loss='sparse_categorical_crossentropy',\n",
    "    metrics=['accuracy']\n",
    ")\n",
    "\n",
    "model.fit(train_images, train_labels, epochs=5)"
   ]
  },
  {
   "cell_type": "code",
   "execution_count": 23,
   "metadata": {},
   "outputs": [
    {
     "name": "stdout",
     "output_type": "stream",
     "text": [
      "313/313 [==============================] - 1s 2ms/step - loss: 0.3536 - accuracy: 0.8760\n"
     ]
    },
    {
     "data": {
      "text/plain": [
       "[0.35359466075897217, 0.8759999871253967]"
      ]
     },
     "execution_count": 23,
     "metadata": {},
     "output_type": "execute_result"
    }
   ],
   "source": [
    "model.evaluate(test_images, test_labels)"
   ]
  },
  {
   "cell_type": "code",
   "execution_count": 26,
   "metadata": {},
   "outputs": [
    {
     "name": "stdout",
     "output_type": "stream",
     "text": [
      "313/313 [==============================] - 1s 2ms/step\n",
      "[2.3763803e-06 4.1612624e-09 3.9035289e-08 1.7776457e-09 2.3713483e-07 1.9897219e-02 6.7344850e-08 2.1755170e-02 6.0086877e-05 9.5828474e-01]\n"
     ]
    }
   ],
   "source": [
    "classifications = model.predict(test_images)\n",
    "print(classifications[0])"
   ]
  },
  {
   "cell_type": "code",
   "execution_count": 27,
   "metadata": {},
   "outputs": [
    {
     "name": "stdout",
     "output_type": "stream",
     "text": [
      "9\n"
     ]
    }
   ],
   "source": [
    "print(test_labels[0])"
   ]
  },
  {
   "cell_type": "code",
   "execution_count": 32,
   "metadata": {},
   "outputs": [
    {
     "name": "stdout",
     "output_type": "stream",
     "text": [
      "Epoch 1/5\n",
      "1875/1875 [==============================] - 29s 15ms/step - loss: 0.4691 - accuracy: 0.8318\n",
      "Epoch 2/5\n",
      "1875/1875 [==============================] - 29s 15ms/step - loss: 0.3561 - accuracy: 0.8697\n",
      "Epoch 3/5\n",
      "1875/1875 [==============================] - 29s 15ms/step - loss: 0.3207 - accuracy: 0.8823\n",
      "Epoch 4/5\n",
      "1875/1875 [==============================] - 30s 16ms/step - loss: 0.2967 - accuracy: 0.8904\n",
      "Epoch 5/5\n",
      "1875/1875 [==============================] - 30s 16ms/step - loss: 0.2786 - accuracy: 0.8965\n"
     ]
    },
    {
     "data": {
      "text/plain": [
       "<keras.src.callbacks.History at 0x2574f043750>"
      ]
     },
     "execution_count": 32,
     "metadata": {},
     "output_type": "execute_result"
    }
   ],
   "source": [
    "model = keras.models.Sequential([\n",
    "    keras.layers.Flatten(input_shape = (28, 28)),\n",
    "    keras.layers.Dense(1024, activation=tf.nn.relu),\n",
    "    keras.layers.Dense(10, activation=tf.nn.softmax)\n",
    "])\n",
    "\n",
    "model.compile(\n",
    "    loss='sparse_categorical_crossentropy',\n",
    "    optimizer=keras.optimizers.Adam(),\n",
    "    metrics=['accuracy'])\n",
    "\n",
    "model.fit(train_images, train_labels, epochs=5)\n"
   ]
  },
  {
   "cell_type": "code",
   "execution_count": 34,
   "metadata": {},
   "outputs": [
    {
     "name": "stdout",
     "output_type": "stream",
     "text": [
      "Epoch 1/5\n",
      "1875/1875 [==============================] - 22s 10ms/step - loss: 0.4714 - accuracy: 0.8321\n",
      "Epoch 2/5\n",
      "1875/1875 [==============================] - 18s 10ms/step - loss: 0.3617 - accuracy: 0.8673\n",
      "Epoch 3/5\n",
      "1875/1875 [==============================] - 22s 12ms/step - loss: 0.3218 - accuracy: 0.8822\n",
      "Epoch 4/5\n",
      "1875/1875 [==============================] - 20s 10ms/step - loss: 0.2977 - accuracy: 0.8890\n",
      "Epoch 5/5\n",
      "1875/1875 [==============================] - 20s 11ms/step - loss: 0.2789 - accuracy: 0.8963\n"
     ]
    },
    {
     "data": {
      "text/plain": [
       "<keras.src.callbacks.History at 0x25770950990>"
      ]
     },
     "execution_count": 34,
     "metadata": {},
     "output_type": "execute_result"
    }
   ],
   "source": [
    "model = keras.models.Sequential([\n",
    "    keras.layers.Flatten(input_shape = (28, 28)),\n",
    "    keras.layers.Dense(512, activation=tf.nn.relu),\n",
    "    keras.layers.Dense(10, activation=tf.nn.softmax)\n",
    "])\n",
    "\n",
    "model.compile(\n",
    "    loss='sparse_categorical_crossentropy',\n",
    "    optimizer=keras.optimizers.Adam(),\n",
    "    metrics=['accuracy'])\n",
    "\n",
    "model.fit(train_images, train_labels, epochs=5)"
   ]
  },
  {
   "cell_type": "code",
   "execution_count": 36,
   "metadata": {},
   "outputs": [
    {
     "name": "stdout",
     "output_type": "stream",
     "text": [
      "Epoch 1/5\n",
      "1875/1875 [==============================] - 21s 10ms/step - loss: 0.4690 - accuracy: 0.8301\n",
      "Epoch 2/5\n",
      "1875/1875 [==============================] - 20s 11ms/step - loss: 0.3549 - accuracy: 0.8683\n",
      "Epoch 3/5\n",
      "1875/1875 [==============================] - 20s 11ms/step - loss: 0.3193 - accuracy: 0.8809\n",
      "Epoch 4/5\n",
      "1875/1875 [==============================] - 23s 12ms/step - loss: 0.2984 - accuracy: 0.8885\n",
      "Epoch 5/5\n",
      "1875/1875 [==============================] - 22s 12ms/step - loss: 0.2791 - accuracy: 0.8944\n"
     ]
    },
    {
     "data": {
      "text/plain": [
       "<keras.src.callbacks.History at 0x257714f5350>"
      ]
     },
     "execution_count": 36,
     "metadata": {},
     "output_type": "execute_result"
    }
   ],
   "source": [
    "model = keras.models.Sequential([\n",
    "    keras.layers.Flatten(input_shape = (28, 28)),\n",
    "    keras.layers.Dense(512, activation=tf.nn.relu),\n",
    "    keras.layers.Dense(256, activation=tf.nn.relu),\n",
    "    keras.layers.Dense(10, activation=tf.nn.softmax)\n",
    "])\n",
    "\n",
    "model.compile(\n",
    "    loss='sparse_categorical_crossentropy',\n",
    "    optimizer=keras.optimizers.Adam(),\n",
    "    metrics=['accuracy'])\n",
    "\n",
    "model.fit(train_images, train_labels, epochs=5)"
   ]
  },
  {
   "cell_type": "code",
   "execution_count": 37,
   "metadata": {},
   "outputs": [
    {
     "name": "stdout",
     "output_type": "stream",
     "text": [
      "Epoch 1/10\n",
      "1875/1875 [==============================] - 19s 10ms/step - loss: 0.4673 - accuracy: 0.8298\n",
      "Epoch 2/10\n",
      "1875/1875 [==============================] - 17s 9ms/step - loss: 0.3542 - accuracy: 0.8699\n",
      "Epoch 3/10\n",
      "1875/1875 [==============================] - 17s 9ms/step - loss: 0.3227 - accuracy: 0.8801\n",
      "Epoch 4/10\n",
      "1875/1875 [==============================] - 18s 10ms/step - loss: 0.2972 - accuracy: 0.8880\n",
      "Epoch 5/10\n",
      "1875/1875 [==============================] - 23s 12ms/step - loss: 0.2781 - accuracy: 0.8964\n",
      "Epoch 6/10\n",
      "1875/1875 [==============================] - 20s 11ms/step - loss: 0.2638 - accuracy: 0.9001\n",
      "Epoch 7/10\n",
      "1875/1875 [==============================] - 19s 10ms/step - loss: 0.2510 - accuracy: 0.9048\n",
      "Epoch 8/10\n",
      "1875/1875 [==============================] - 19s 10ms/step - loss: 0.2406 - accuracy: 0.9085\n",
      "Epoch 9/10\n",
      "1875/1875 [==============================] - 18s 10ms/step - loss: 0.2288 - accuracy: 0.9133\n",
      "Epoch 10/10\n",
      "1875/1875 [==============================] - 18s 10ms/step - loss: 0.2206 - accuracy: 0.9166\n"
     ]
    },
    {
     "data": {
      "text/plain": [
       "<keras.src.callbacks.History at 0x2577183f490>"
      ]
     },
     "execution_count": 37,
     "metadata": {},
     "output_type": "execute_result"
    }
   ],
   "source": [
    "model = keras.models.Sequential([\n",
    "    keras.layers.Flatten(input_shape = (28, 28)),\n",
    "    keras.layers.Dense(512, activation=tf.nn.relu),\n",
    "    keras.layers.Dense(256, activation=tf.nn.relu),\n",
    "    keras.layers.Dense(10, activation=tf.nn.softmax)\n",
    "])\n",
    "\n",
    "model.compile(\n",
    "    loss='sparse_categorical_crossentropy',\n",
    "    optimizer=keras.optimizers.Adam(),\n",
    "    metrics=['accuracy'])\n",
    "\n",
    "model.fit(train_images, train_labels, epochs=10)"
   ]
  },
  {
   "cell_type": "code",
   "execution_count": 38,
   "metadata": {},
   "outputs": [
    {
     "name": "stdout",
     "output_type": "stream",
     "text": [
      "Epoch 1/30\n",
      "1875/1875 [==============================] - 20s 10ms/step - loss: 0.4701 - accuracy: 0.8301\n",
      "Epoch 2/30\n",
      "1875/1875 [==============================] - 18s 10ms/step - loss: 0.3556 - accuracy: 0.8690\n",
      "Epoch 3/30\n",
      "1875/1875 [==============================] - 18s 9ms/step - loss: 0.3223 - accuracy: 0.8821\n",
      "Epoch 4/30\n",
      "1875/1875 [==============================] - 18s 10ms/step - loss: 0.2994 - accuracy: 0.8882\n",
      "Epoch 5/30\n",
      "1875/1875 [==============================] - 19s 10ms/step - loss: 0.2806 - accuracy: 0.8950\n",
      "Epoch 6/30\n",
      "1875/1875 [==============================] - 18s 9ms/step - loss: 0.2650 - accuracy: 0.8998\n",
      "Epoch 7/30\n",
      "1875/1875 [==============================] - 18s 10ms/step - loss: 0.2515 - accuracy: 0.9042\n",
      "Epoch 8/30\n",
      "1875/1875 [==============================] - 18s 10ms/step - loss: 0.2406 - accuracy: 0.9090\n",
      "Epoch 9/30\n",
      "1875/1875 [==============================] - 21s 11ms/step - loss: 0.2286 - accuracy: 0.9130\n",
      "Epoch 10/30\n",
      "1875/1875 [==============================] - 22s 12ms/step - loss: 0.2213 - accuracy: 0.9154\n",
      "Epoch 11/30\n",
      "1875/1875 [==============================] - 20s 11ms/step - loss: 0.2125 - accuracy: 0.9194\n",
      "Epoch 12/30\n",
      "1875/1875 [==============================] - 18s 9ms/step - loss: 0.2049 - accuracy: 0.9211\n",
      "Epoch 13/30\n",
      "1875/1875 [==============================] - 17s 9ms/step - loss: 0.1957 - accuracy: 0.9249\n",
      "Epoch 14/30\n",
      "1875/1875 [==============================] - 22s 12ms/step - loss: 0.1891 - accuracy: 0.9285\n",
      "Epoch 15/30\n",
      "1875/1875 [==============================] - 25s 13ms/step - loss: 0.1795 - accuracy: 0.9313\n",
      "Epoch 16/30\n",
      "1875/1875 [==============================] - 20s 11ms/step - loss: 0.1762 - accuracy: 0.9316\n",
      "Epoch 17/30\n",
      "1875/1875 [==============================] - 20s 11ms/step - loss: 0.1705 - accuracy: 0.9330\n",
      "Epoch 18/30\n",
      "1875/1875 [==============================] - 18s 9ms/step - loss: 0.1649 - accuracy: 0.9365\n",
      "Epoch 19/30\n",
      "1875/1875 [==============================] - 18s 10ms/step - loss: 0.1610 - accuracy: 0.9371\n",
      "Epoch 20/30\n",
      "1875/1875 [==============================] - 17s 9ms/step - loss: 0.1564 - accuracy: 0.9401\n",
      "Epoch 21/30\n",
      "1875/1875 [==============================] - 18s 10ms/step - loss: 0.1513 - accuracy: 0.9421\n",
      "Epoch 22/30\n",
      "1875/1875 [==============================] - 17s 9ms/step - loss: 0.1454 - accuracy: 0.9434\n",
      "Epoch 23/30\n",
      "1875/1875 [==============================] - 18s 9ms/step - loss: 0.1450 - accuracy: 0.9446\n",
      "Epoch 24/30\n",
      "1875/1875 [==============================] - 17s 9ms/step - loss: 0.1375 - accuracy: 0.9464\n",
      "Epoch 25/30\n",
      "1875/1875 [==============================] - 18s 9ms/step - loss: 0.1359 - accuracy: 0.9474\n",
      "Epoch 26/30\n",
      "1875/1875 [==============================] - 20s 11ms/step - loss: 0.1354 - accuracy: 0.9489\n",
      "Epoch 27/30\n",
      "1875/1875 [==============================] - 18s 9ms/step - loss: 0.1325 - accuracy: 0.9491\n",
      "Epoch 28/30\n",
      "1875/1875 [==============================] - 19s 10ms/step - loss: 0.1275 - accuracy: 0.9510\n",
      "Epoch 29/30\n",
      "1875/1875 [==============================] - 18s 9ms/step - loss: 0.1237 - accuracy: 0.9520\n",
      "Epoch 30/30\n",
      "1875/1875 [==============================] - 18s 10ms/step - loss: 0.1222 - accuracy: 0.9523\n"
     ]
    },
    {
     "data": {
      "text/plain": [
       "<keras.src.callbacks.History at 0x2577231b750>"
      ]
     },
     "execution_count": 38,
     "metadata": {},
     "output_type": "execute_result"
    }
   ],
   "source": [
    "model = keras.models.Sequential([\n",
    "    keras.layers.Flatten(input_shape = (28, 28)),\n",
    "    keras.layers.Dense(512, activation=tf.nn.relu),\n",
    "    keras.layers.Dense(256, activation=tf.nn.relu),\n",
    "    keras.layers.Dense(10, activation=tf.nn.softmax)\n",
    "])\n",
    "\n",
    "model.compile(\n",
    "    loss='sparse_categorical_crossentropy',\n",
    "    optimizer=keras.optimizers.Adam(),\n",
    "    metrics=['accuracy'])\n",
    "\n",
    "model.fit(train_images, train_labels, epochs=30)"
   ]
  },
  {
   "cell_type": "code",
   "execution_count": 30,
   "metadata": {},
   "outputs": [
    {
     "name": "stdout",
     "output_type": "stream",
     "text": [
      "313/313 [==============================] - 1s 3ms/step - loss: 0.3461 - accuracy: 0.8762\n"
     ]
    },
    {
     "data": {
      "text/plain": [
       "[0.3461254835128784, 0.8762000203132629]"
      ]
     },
     "execution_count": 30,
     "metadata": {},
     "output_type": "execute_result"
    }
   ],
   "source": [
    "model.evaluate(test_images, test_labels)\n"
   ]
  },
  {
   "cell_type": "code",
   "execution_count": 31,
   "metadata": {},
   "outputs": [
    {
     "name": "stdout",
     "output_type": "stream",
     "text": [
      "313/313 [==============================] - 1s 3ms/step\n",
      "[1.12166913e-06 4.53652007e-07 1.03171274e-07 1.45205237e-09 2.39663649e-07 3.78521363e-04 1.17408092e-06 3.45700011e-02 2.30302987e-07 9.65048194e-01]\n"
     ]
    }
   ],
   "source": [
    "classifications = model.predict(test_images)\n",
    "\n",
    "print(classifications[0])"
   ]
  },
  {
   "cell_type": "code",
   "execution_count": 39,
   "metadata": {},
   "outputs": [],
   "source": [
    "model = keras.models.Sequential([\n",
    "    keras.layers.Flatten(input_shape=(28, 28)),\n",
    "    keras.layers.Dense(512, activation=tf.nn.relu),\n",
    "    keras.layers.Dense(10, activation=tf.nn.softmax)\n",
    "])\n",
    "\n",
    "model.compile(\n",
    "    optimizer=keras.optimizers.Adam(),\n",
    "    loss='sparse_categorical_crossentropy',\n",
    "    metrics=['accuracy'])"
   ]
  },
  {
   "cell_type": "code",
   "execution_count": 41,
   "metadata": {},
   "outputs": [],
   "source": [
    "class myCallback(keras.callbacks.Callback):\n",
    "    \n",
    "    def on_epoch_end(self, epoch, logs={}):\n",
    "        \n",
    "        if (logs.get('loss')<0.4):\n",
    "            \n",
    "            print(\" loss reached 0.4\")\n",
    "            \n",
    "            self.model.stop_training = True\n",
    "            \n",
    "callbacks = myCallback()"
   ]
  },
  {
   "cell_type": "code",
   "execution_count": 43,
   "metadata": {},
   "outputs": [
    {
     "name": "stdout",
     "output_type": "stream",
     "text": [
      "Epoch 1/5\n",
      "1875/1875 [==============================] - 19s 10ms/step - loss: 0.4733 - accuracy: 0.8322\n",
      "Epoch 2/5\n",
      "1874/1875 [============================>.] - ETA: 0s - loss: 0.3557 - accuracy: 0.8699loss reached 0.4\n",
      "1875/1875 [==============================] - 17s 9ms/step - loss: 0.3556 - accuracy: 0.8700\n"
     ]
    },
    {
     "data": {
      "text/plain": [
       "<keras.src.callbacks.History at 0x25772dbd710>"
      ]
     },
     "execution_count": 43,
     "metadata": {},
     "output_type": "execute_result"
    }
   ],
   "source": [
    "model.fit(train_images, train_labels, callbacks=[callbacks], epochs=5)"
   ]
  },
  {
   "cell_type": "code",
   "execution_count": null,
   "metadata": {},
   "outputs": [],
   "source": []
  }
 ],
 "metadata": {
  "kernelspec": {
   "display_name": "Python 3",
   "language": "python",
   "name": "python3"
  },
  "language_info": {
   "codemirror_mode": {
    "name": "ipython",
    "version": 3
   },
   "file_extension": ".py",
   "mimetype": "text/x-python",
   "name": "python",
   "nbconvert_exporter": "python",
   "pygments_lexer": "ipython3",
   "version": "3.11.8"
  }
 },
 "nbformat": 4,
 "nbformat_minor": 2
}
